{
  "cells": [
    {
      "cell_type": "markdown",
      "metadata": {},
      "source": [
        "\n# Checking for decreasing values in a timeseries\n\nExample of algorithm that indicates decreasing values in time series data. This algorithm is applied on Running Hours time series.\nIt is a specific type of time series that is counting the number of running hours in a pump. Given that we expect\nthe number of running hours to either stay the same (if the pump is not running) or increase with time (if the pump\nis running), the decrease in running hours value indicates bad data quality.\n\nThe output of the algorithm is an indicator time series with value 1 where there is a decrease in time series value,\nand 0 otherwise. The indicator will be set to 1 until the data gets \"back to normal\" (that is, until time series reaches\nthe value it had before the value drop).\n\nThe algorithm is applied on the same data twice:\n\n    #. Using default threshold; indicator will be set to 1 if data drop is higher than 0\n\n    #. Using a threshold of 4.1; indicator will be set to 1 if data drop is higher than 4.1\n"
      ]
    },
    {
      "cell_type": "code",
      "execution_count": null,
      "metadata": {
        "collapsed": false
      },
      "outputs": [],
      "source": [
        "import os\n\nimport matplotlib.pyplot as plt\nimport pandas as pd\n\nfrom indsl.data_quality.value_decrease_indication import value_decrease_check\n\n\n# import generated data\nbase_path = \"\" if __name__ == \"__main__\" else os.path.dirname(__file__)\ndata = pd.read_csv(os.path.join(base_path, \"../../datasets/data/ts_value_reduction_data.csv\"), index_col=0)\ndata = data.squeeze()\ndata.index = pd.to_datetime(data.index)\n\n# apply the function for checking decrease in time series values - use default threshold (0.0)\nindicator_default_threshold = value_decrease_check(data)\n\n# apply the function for checking decrease in time series values - change the threshold (4.1)\nindicator_new_threshold = value_decrease_check(data, 4.1)\n\n# plot the results\nfig, (ax1, ax2, ax3) = plt.subplots(3, 1, figsize=(9, 7))\nax1.plot(data, \"-\")\nax2.plot(indicator_default_threshold, \"-\")\nax3.plot(indicator_new_threshold, \"-\")\nax1.set_title(\"Time series values\")\nax2.set_title(\"Indicator with default threshold 0.0\")\nax3.set_title(\"Indicator with threshold 4.1\")\nfig.suptitle(\"Indicator for decrease in time series values\", fontsize=16)\nfig.tight_layout()\n\nplt.show()"
      ]
    }
  ],
  "metadata": {
    "kernelspec": {
      "display_name": "Python 3",
      "language": "python",
      "name": "python3"
    },
    "language_info": {
      "codemirror_mode": {
        "name": "ipython",
        "version": 3
      },
      "file_extension": ".py",
      "mimetype": "text/x-python",
      "name": "python",
      "nbconvert_exporter": "python",
      "pygments_lexer": "ipython3",
      "version": "3.12.7"
    }
  },
  "nbformat": 4,
  "nbformat_minor": 0
}