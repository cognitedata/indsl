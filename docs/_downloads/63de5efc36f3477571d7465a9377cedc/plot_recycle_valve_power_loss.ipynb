{
  "cells": [
    {
      "cell_type": "code",
      "execution_count": null,
      "metadata": {
        "collapsed": false
      },
      "outputs": [],
      "source": [
        "%matplotlib inline"
      ]
    },
    {
      "cell_type": "markdown",
      "metadata": {},
      "source": [
        "\n# Pump recycle valve power loss\nThis example demonstrates how to calculate the recirculation line power loss if you have the following information:\n\n* Pump suction pressure\n* Pump discharge pressure\n* Recycle valve outlet pressure\n* Recycle valve flow coefficient ($Cv$) curve\n* Density of the fluid\n\nNote that if the flow rate through the recycle valve is known, the calculation can be simplified and the recycle valve\noutlet pressure and $Cv$ curve are not required.\n"
      ]
    },
    {
      "cell_type": "markdown",
      "metadata": {},
      "source": [
        "We start by making some example dummy data. We ensure that the pump discharge pressure is higher than the suction\npressure, and that the feed pressure is not constant to get more interesting results.\n\n"
      ]
    },
    {
      "cell_type": "code",
      "execution_count": null,
      "metadata": {
        "collapsed": false
      },
      "outputs": [],
      "source": [
        "import pandas as pd\n\nfrom indsl.equipment.pump_parameters import recycle_valve_power_loss, total_head\nfrom indsl.equipment.valve_parameters import flow_through_valve\nfrom indsl.signals.generator import line, sine_wave\n\n\nstart_date = pd.Timestamp(\"2022-1-1\")\nend_date = pd.Timestamp(\"2022-1-2\")\nmean_disch_P = 10  # bar\nwave_period_disch_P = pd.Timedelta(\"10min\")\nwave_period_valve_out_P = pd.Timedelta(\"5hour\")\nsuction_pressure = sine_wave(start_date, end_date)  # bar\ndischarge_pressure = sine_wave(start_date, end_date, wave_period=wave_period_disch_P, wave_mean=mean_disch_P)  # bar\nvalve_outlet_P = sine_wave(start_date, end_date, wave_period=wave_period_valve_out_P)  # bar\nSG = 1\nslope = pd.Timedelta(\"1s\") / (end_date - start_date)\nvalve_opening = line(start_date, end_date, slope=slope, intercept=0)"
      ]
    },
    {
      "cell_type": "markdown",
      "metadata": {},
      "source": [
        "To specify the valve $Cv$ curve, the type of curve has to be given and two points on the curve, the $Cv$ at min adn max\nflow rates.\n\n"
      ]
    },
    {
      "cell_type": "code",
      "execution_count": null,
      "metadata": {
        "collapsed": false
      },
      "outputs": [],
      "source": [
        "type = \"EQ\"\nmin_opening = 0.1\nmax_opening = 0.9\nmin_Cv = 10\nmax_Cv = 90"
      ]
    },
    {
      "cell_type": "markdown",
      "metadata": {},
      "source": [
        "The first step step is to calculate the flow through the recycle valve. We assume the pump discharge pressure is equal\nto the recycle valve inlet pressure.\n\n"
      ]
    },
    {
      "cell_type": "code",
      "execution_count": null,
      "metadata": {
        "collapsed": false
      },
      "outputs": [],
      "source": [
        "Q_valve = flow_through_valve(\n    discharge_pressure, valve_outlet_P, valve_opening, SG, min_opening, max_opening, min_Cv, max_Cv, type, True\n)  # m3/h"
      ]
    },
    {
      "cell_type": "markdown",
      "metadata": {},
      "source": [
        "The second step is to calcualte the total head of the pump.\n\n"
      ]
    },
    {
      "cell_type": "code",
      "execution_count": null,
      "metadata": {
        "collapsed": false
      },
      "outputs": [],
      "source": [
        "den = 1000 * SG  # kg/m3\nden = line(start_date, end_date, intercept=den)  # kg/m3\ndischarge_pressure *= 100000  # Pa\nsuction_pressure *= 100000  # Pa\nhead = total_head(discharge_pressure, suction_pressure, den, True)  # m"
      ]
    },
    {
      "cell_type": "markdown",
      "metadata": {},
      "source": [
        "The last step is to calculate the recycle valve power loss.\n\n"
      ]
    },
    {
      "cell_type": "code",
      "execution_count": null,
      "metadata": {
        "collapsed": false
      },
      "outputs": [],
      "source": [
        "power_loss = recycle_valve_power_loss(Q_valve, head, den, True)  # W\nax = power_loss.plot()\nax.set_title(\"Recycle valve power loss\")\nax.set_xlabel(\"Time\")\n_ = ax.set_ylabel(\"Power (W)\")"
      ]
    },
    {
      "cell_type": "markdown",
      "metadata": {},
      "source": [
        "As a simple sanity check, the increasing power loss with increasing valve opening makes sense, as this means more\nfluid flows through the recirculation line.\n\n"
      ]
    }
  ],
  "metadata": {
    "kernelspec": {
      "display_name": "Python 3",
      "language": "python",
      "name": "python3"
    },
    "language_info": {
      "codemirror_mode": {
        "name": "ipython",
        "version": 3
      },
      "file_extension": ".py",
      "mimetype": "text/x-python",
      "name": "python",
      "nbconvert_exporter": "python",
      "pygments_lexer": "ipython3",
      "version": "3.8.13"
    }
  },
  "nbformat": 4,
  "nbformat_minor": 0
}