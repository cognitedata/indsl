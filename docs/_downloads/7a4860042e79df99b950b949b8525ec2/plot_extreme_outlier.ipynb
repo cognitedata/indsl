{
  "cells": [
    {
      "cell_type": "markdown",
      "metadata": {},
      "source": [
        "\n# Extreme Outliers Removal\n\nExample of point outlier removal with polynomial regression and Studentized residuals. We generate a toy data set with\nan underlying polynomial signal that has Gaussian noise and large point outliers added to it.\n\nIn the figure below, it can be seen that the point outliers are filtered out from the raw data. This data can then be\nsubsequently processed with a smoother to refine the underlying signal if desired.\n"
      ]
    },
    {
      "cell_type": "code",
      "execution_count": null,
      "metadata": {
        "collapsed": false
      },
      "outputs": [],
      "source": [
        "import matplotlib.pyplot as plt\nimport numpy as np\nimport pandas as pd\n\nfrom indsl.data_quality import extreme\n\n\nrng = np.random.default_rng(12345)\nplt.rcParams.update({\"font.size\": 18})\n\n\n# Create Toy clean dataset\nnx = 1000\nindex = pd.date_range(start=\"1970\", periods=nx, freq=\"1min\")\nx = np.linspace(0, 10, nx)\nsignal = 2 * x**2 - 10 * x + 2\nnoise = np.random.normal(loc=100, size=nx, scale=2)\ny = noise + signal\n\n# Add anomalies\nanom_num = rng.integers(low=0, high=200, size=20)\nanom_ids = rng.integers(low=0, high=nx, size=20)\ny[anom_ids] = anom_num\nis_anom = [item in anom_ids for item in range(nx)]\nraw_data = pd.Series(y, index=index)\n\n\n# Find anomalies and plot results\nres = extreme(raw_data)\n\nplt.figure(1, figsize=[15, 5])\nraw_data.plot()\nres.plot()\n\n_ = plt.legend([\"Raw Data\", \"Filtered with Anomaly Detector\"])"
      ]
    }
  ],
  "metadata": {
    "kernelspec": {
      "display_name": "Python 3",
      "language": "python",
      "name": "python3"
    },
    "language_info": {
      "codemirror_mode": {
        "name": "ipython",
        "version": 3
      },
      "file_extension": ".py",
      "mimetype": "text/x-python",
      "name": "python",
      "nbconvert_exporter": "python",
      "pygments_lexer": "ipython3",
      "version": "3.12.7"
    }
  },
  "nbformat": 4,
  "nbformat_minor": 0
}