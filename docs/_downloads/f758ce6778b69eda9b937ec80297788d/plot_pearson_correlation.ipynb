{
  "cells": [
    {
      "cell_type": "code",
      "execution_count": null,
      "metadata": {
        "collapsed": false
      },
      "outputs": [],
      "source": [
        "%matplotlib inline"
      ]
    },
    {
      "cell_type": "markdown",
      "metadata": {},
      "source": [
        "\n# Pearson correlation\n\nThis example calculates the rolling pearson correlation coefficient between two synthetic timeseries.\n"
      ]
    },
    {
      "cell_type": "code",
      "execution_count": null,
      "metadata": {
        "collapsed": false
      },
      "outputs": [],
      "source": [
        "import matplotlib.pyplot as plt\nimport numpy as np\nimport pandas as pd\n\nfrom matplotlib.dates import DateFormatter\n\nfrom indsl.statistics.correlation import pearson_correlation\n\n\n# generate the data\nrng = np.random.default_rng(12345)\nnum_datapoints = 100\ny1 = rng.standard_normal(num_datapoints)\ny2 = y1.copy()  # create data2 from data1\ny2 += 5  # add deviation\ny2 += rng.standard_normal(num_datapoints) * 0.5  # add noise\nindex = pd.date_range(start=\"1970\", periods=num_datapoints, freq=\"1T\")\ndata1, data2 = pd.Series(y1, index=index), pd.Series(y2, index=index)\n\n# calculate the rolling pearson correlation\ncorr = pearson_correlation(data1, data2, time_window=pd.Timedelta(minutes=5), min_periods=1)\n\n# Plot the two time series and the correlation between them\nfig, ax = plt.subplots(2, 1, figsize=[15, 10])\nax[0].plot(\n    data1,\n    label=\"Time series 1\",\n)\nax[0].plot(data2, label=\"Time series 2\")\nax[1].plot(corr, label=\"Rolling pearson correlation\")\nax[0].set_title(\"Time series\")\nax[1].set_title(\"Correlation between time series\")\n_ = ax[0].legend(loc=\"best\")\n\n# Formatting\nmyFmt = DateFormatter(\"%b %d, %H:%M\")\nfor ax_ in ax:\n    ax_.xaxis.set_major_formatter(myFmt)\n    ax_.xaxis.set_major_formatter(DateFormatter(\"%b %d, %H:%M\"))\n    _ = plt.setp(ax_.get_xticklabels(), rotation=45)\nplt.tight_layout()\nplt.show()"
      ]
    }
  ],
  "metadata": {
    "kernelspec": {
      "display_name": "Python 3",
      "language": "python",
      "name": "python3"
    },
    "language_info": {
      "codemirror_mode": {
        "name": "ipython",
        "version": 3
      },
      "file_extension": ".py",
      "mimetype": "text/x-python",
      "name": "python",
      "nbconvert_exporter": "python",
      "pygments_lexer": "ipython3",
      "version": "3.8.13"
    }
  },
  "nbformat": 4,
  "nbformat_minor": 0
}