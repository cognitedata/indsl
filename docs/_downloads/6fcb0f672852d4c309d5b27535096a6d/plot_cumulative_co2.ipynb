{
  "cells": [
    {
      "cell_type": "markdown",
      "metadata": {},
      "source": [
        "\n# Cumulative CO2 Production and Cost\n\nGiven the power consumption of a process unit and data regarding the emissions and cost factors, we can work out the total amount of\nCO2 produced and the cost associated with that. Here is an example using the power used by a gas compressor at the Valhall platform.\n"
      ]
    },
    {
      "cell_type": "code",
      "execution_count": null,
      "metadata": {
        "collapsed": false
      },
      "outputs": [],
      "source": [
        "import os\n\nimport matplotlib.pyplot as plt\nimport pandas as pd\n\nfrom indsl.sustainability.co2_emissions_calculations import (\n    cumulative_co2_cost,\n    cumulative_co2_production,\n    rate_of_emissions,\n)\n\n\n# Load and pre-process data\nbase_path = os.path.dirname(\"\")\ndata = pd.read_csv(os.path.join(base_path, \"../../datasets/data/compressor_power_output.csv\"), index_col=0)\ndata.index = pd.to_datetime(data.index)\npower = data[data.columns[0]].resample(\"1h\").mean().ffill()  # Unit is in kW\n\n# Specify factors\nco2_cost_factor = 0.5  # NOK/kg CO2\nemissions_factor = 0.21  # kg CO2/kWh\n\n# Perform emissions calculations\nrate_co2_produced = rate_of_emissions(power, emissions_factor)\nco2_produced = cumulative_co2_production(rate_co2_produced, start_date=data.index[0])\nco2_cost = cumulative_co2_cost(\n    power, co2_cost_factor=co2_cost_factor, emissions_factor=emissions_factor, start_date=data.index[0]\n)\n\n# Plotting\nplt.subplots(2, 2, figsize=(10, 10))\n\nax = plt.subplot(2, 2, 1)\n(power).plot(ax=ax)\nplt.ylabel(\"Power (kW)\")\nplt.xlabel(\"Date\")\nplt.title(\"Compressor Power Output\")\n\nax = plt.subplot(2, 2, 2)\n(rate_co2_produced).plot(ax=ax)\nplt.ylabel(\"CO2 Production Rate (kg CO2/hr)\")\nplt.xlabel(\"Date\")\nplt.title(\"Rate of CO2 Production\")\n\n\nax = plt.subplot(2, 2, 3)\n(co2_produced / 1000).plot(ax=ax)\nplt.ylabel(\"Mass CO2 Emitted (tonnes)\")\nplt.xlabel(\"Date\")\nplt.title(\"Cumulative Sum of CO2 Production\")\n\n\nax = plt.subplot(2, 2, 4)\n(co2_cost / 1e6).plot(ax=ax)\nplt.ylabel(\"Cost (MNOK)\")\nplt.xlabel(\"Date\")\nplt.title(\"Cumulative Cost of CO2\")\n\nplt.show()"
      ]
    }
  ],
  "metadata": {
    "kernelspec": {
      "display_name": "Python 3",
      "language": "python",
      "name": "python3"
    },
    "language_info": {
      "codemirror_mode": {
        "name": "ipython",
        "version": 3
      },
      "file_extension": ".py",
      "mimetype": "text/x-python",
      "name": "python",
      "nbconvert_exporter": "python",
      "pygments_lexer": "ipython3",
      "version": "3.12.7"
    }
  },
  "nbformat": 4,
  "nbformat_minor": 0
}