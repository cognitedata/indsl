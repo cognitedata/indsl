{
  "cells": [
    {
      "cell_type": "markdown",
      "metadata": {},
      "source": [
        "\n# Wavy signal generation\n\nSinusoidal waves are very useful in signal generation. The sine wave equation can be used to generate a simple wave\n(wave 1 in the top left panel) or complex signals in a few steps. The figure below shows the generation of four\ndifferent waves that are recursively added together to create an increasingly complex signal. And, combining it with\nother signals, such as sloping line, increases its functionality. The bottom panel of the figure shows all the waves\nplus a linearly increasing signal.\n"
      ]
    },
    {
      "cell_type": "code",
      "execution_count": null,
      "metadata": {
        "collapsed": false
      },
      "outputs": [],
      "source": [
        "import matplotlib.pyplot as plt\nimport numpy as np\nimport pandas as pd\n\nfrom indsl.signals.generator import line, sine_wave, wave_with_brownian_noise\nfrom indsl.signals.noise import white_noise\n\n\n# Define the signal and wave parameters\nstart = pd.Timestamp(\"1975-05-09\")\nend = pd.Timestamp(\"1975-05-14\")\nfreq = pd.Timedelta(\"1 m\")\nw_period = [pd.Timedelta(\"1 D\"), pd.Timedelta(\"2 D\"), pd.Timedelta(\"3 D\"), pd.Timedelta(\"4 D\")]\nw_mean = [0, 2, 4, 6]\nw_amplitude = [10, 15, 20, 25]\nw_phase = [0, np.pi * 1 / 3, np.pi * 2 / 3, np.pi]\ncolor = [\"b\", \"g\", \"r\", \"c\"]\n\n# Generate a plotting grid and recursively add all the waves\nfig = plt.figure(tight_layout=True, figsize=[12, 7])\nindex = pd.date_range(start=\"1975-05-09\", end=\"1975-05-14\", freq=\"min\")\nall_waves = pd.Series(data=np.zeros(len(index)), index=index, dtype=float)\nfor item in range(len(w_period)):\n    wave = sine_wave(\n        start_date=start,\n        end_date=end,\n        sample_freq=freq,\n        wave_period=w_period[item],\n        wave_mean=w_mean[item],\n        wave_amplitude=w_amplitude[item],\n        wave_phase=w_phase[item],\n    )\n    all_waves = all_waves.add(wave)\n\n    ax = plt.subplot(3, 2, item + 1)\n    if item != 0:\n        ax.plot(all_waves, label=f\"Sum of waves {np.arange(item + 1) + 1}\")\n    ax.plot(wave, label=f\"Wave {item + 1}\")\n    ax.legend(loc=1)\n    ax.grid(True)\n\n# Create a sloping line and add it to the sum of all the waves\nlinear_sig = line(\n    start_date=start,\n    end_date=end,\n    sample_freq=freq,\n    slope=1e-3,\n    intercept=-40,\n)\n\nsloping_waves = all_waves + linear_sig\nax = plt.subplot(3, 2, (5, 6))\nax.plot(sloping_waves, label=\"All waves + linear signal\")\nax.legend(loc=2)\nax.grid(True)\nfig.suptitle(\"Generating and Adding Sinusoidal Signals\")\nplt.show()"
      ]
    },
    {
      "cell_type": "markdown",
      "metadata": {},
      "source": [
        "\n## Add white noise\n\nTo make the final signal more realistic, let's add white noise to it. We\ncan use the :meth:`indsl.signals.noise.white_noise` method. It will estimate\nthe power (i.e. variance) of the signal and add white (random) noise to it,\nwith a given signal-to-noise ratio (SNR).\n\n"
      ]
    },
    {
      "cell_type": "code",
      "execution_count": null,
      "metadata": {
        "collapsed": false
      },
      "outputs": [],
      "source": [
        "fig = plt.figure(tight_layout=True, figsize=[9, 6])\nplt.plot(white_noise(sloping_waves, snr_db=30))\nplt.title(\"Signal with White Noise\")\nplt.show()"
      ]
    },
    {
      "cell_type": "markdown",
      "metadata": {},
      "source": [
        "\n## Add wave with brownian noise\n\nWe can use the :meth:`indsl.signals.noise.wave_with_brownian_noise` method.\nIt produces a sinusoidal signal with brownian noise.\n\n"
      ]
    },
    {
      "cell_type": "code",
      "execution_count": null,
      "metadata": {
        "collapsed": false
      },
      "outputs": [],
      "source": [
        "fig = plt.figure(tight_layout=True, figsize=[9, 6])\nplt.plot(wave_with_brownian_noise())\nplt.title(\"Signal with brownian noise\")\nplt.show()"
      ]
    }
  ],
  "metadata": {
    "kernelspec": {
      "display_name": "Python 3",
      "language": "python",
      "name": "python3"
    },
    "language_info": {
      "codemirror_mode": {
        "name": "ipython",
        "version": 3
      },
      "file_extension": ".py",
      "mimetype": "text/x-python",
      "name": "python",
      "nbconvert_exporter": "python",
      "pygments_lexer": "ipython3",
      "version": "3.12.7"
    }
  },
  "nbformat": 4,
  "nbformat_minor": 0
}