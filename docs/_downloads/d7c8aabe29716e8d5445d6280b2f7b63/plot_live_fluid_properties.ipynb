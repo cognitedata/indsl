{
  "cells": [
    {
      "cell_type": "markdown",
      "metadata": {},
      "source": [
        "\n# Calculate fluid properties given pressure and temperature\n\nThe calculation of fluid properties is a fundamental component of mass balance and other methods of conservation.\nThe goal of this feature is to calculate the fluid properties given the pressure and temperature conditions and\nthe composition of the fluid itself. Equation of state simulators output a fluid file that is a table of the fluid\nproperties for a range of pressure and temperature conditions. The input to these simulators is the composition of\nthe fluid obtained from lab tests. For this specific feature, the input fluid file is a .tab file used by\n[OLGA](https://www.software.slb.com/products/olga), a transient multiphase flow simulator.\n"
      ]
    },
    {
      "cell_type": "code",
      "execution_count": null,
      "metadata": {
        "collapsed": false
      },
      "outputs": [],
      "source": [
        "import pandas as pd\n\nimport matplotlib.dates as mdates\nimport matplotlib.pyplot as plt\nimport pickle\nfrom indsl.oil_and_gas.live_fluid_properties import retrieve_fluid_properties\n\n\ndf = pd.read_csv(\"../../datasets/data/press_temp_bh&wh.csv\")\n\n# Create DataFrame with that as index\nindex = pd.date_range(start=\"2025-01-01 18:00\", periods=240, freq=\"h\")\ndf.index = index\n\npvt_data = pd.read_csv(\"../../datasets/data/pvt_data.csv\")\npvt_data.attrs[\"file_type\"] = \"tab\"\n\npbh = df.iloc[:, 0] * 100000\ntbh = df.iloc[:, 1]\npwf = df.iloc[:, 2] * 100000\ntwf = df.iloc[:, 3]\n\npbh.name = \"Pressure bottom hole [bara]\"\npwf.name = \"Pressure wellhead [bara]\"\ntbh.name = \"Temperature bottom hole [C]\"\ntwf.name = \"Temperature wellhead [C]\"\n\ngas_den_bh = [retrieve_fluid_properties(pbh, tbh, pvt_data, param=\"ROG\"), \"red\"]\ngas_den_wh = [retrieve_fluid_properties(pwf, twf, pvt_data, param=\"ROG\"), \"green\"]\nliq_den_bh = [retrieve_fluid_properties(pbh, tbh, pvt_data, param=\"ROHL\"), \"red\"]\nliq_den_wh = [retrieve_fluid_properties(pwf, twf, pvt_data, param=\"ROHL\"), \"green\"]\nhl_bh = [retrieve_fluid_properties(pbh, tbh, pvt_data, param=\"CPHL\"), \"red\"]\nhl_wh = [retrieve_fluid_properties(pwf, twf, pvt_data, param=\"CPHL\"), \"green\"]\nhg_bh = [retrieve_fluid_properties(pbh, tbh, pvt_data, param=\"CPG\"), \"red\"]\nhg_wh = [retrieve_fluid_properties(pwf, twf, pvt_data, param=\"CPG\"), \"green\"]\n\npbh = df.iloc[:, 0]\npwf = df.iloc[:, 2]\n\npbh.name = \"Pressure bottom hole [bara]\"\npwf.name = \"Pressure wellhead [bara]\"\npbh = [pbh, \"red\"]\ntbh = [tbh, \"red\"]\npwf = [pwf, \"green\"]\ntwf = [twf, \"green\"]\n\ndata = [[pbh, pwf], [tbh, twf], [gas_den_bh, gas_den_wh], [liq_den_bh, liq_den_wh], [hg_bh, hg_wh], [hl_bh, hl_wh]]\n\nfig, ax = plt.subplots(figsize=(8, 2 * len(data)), nrows=len(data), ncols=1)\nax = ax.ravel()\nfor idx, i in enumerate(data):\n    ax[idx].plot(i[0][0], color=i[0][1], label=\"bottom hole\")\n    ax[idx].plot(i[1][0], color=i[1][1], label=\"wellhead\")\n    ax[idx].set_title(i[0][0].name)\n    ax[idx].legend()\n    ax[idx].xaxis.set_major_locator(mdates.DayLocator(interval=3))\n    ax[idx].xaxis.set_major_formatter(mdates.DateFormatter(\"%Y-%m-%d\"))\nplt.tight_layout()\nplt.show()"
      ]
    }
  ],
  "metadata": {
    "kernelspec": {
      "display_name": "Python 3",
      "language": "python",
      "name": "python3"
    },
    "language_info": {
      "codemirror_mode": {
        "name": "ipython",
        "version": 3
      },
      "file_extension": ".py",
      "mimetype": "text/x-python",
      "name": "python",
      "nbconvert_exporter": "python",
      "pygments_lexer": "ipython3",
      "version": "3.12.7"
    }
  },
  "nbformat": 4,
  "nbformat_minor": 0
}