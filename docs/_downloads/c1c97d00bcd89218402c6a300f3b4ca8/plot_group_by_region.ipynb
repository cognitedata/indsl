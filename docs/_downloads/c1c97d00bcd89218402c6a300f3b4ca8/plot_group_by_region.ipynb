{
  "cells": [
    {
      "cell_type": "markdown",
      "metadata": {},
      "source": [
        "\n# Group by Region\n\nExample of aggregating (grouping) data on regions defined by a series with integers denoting different states.\n\nIn the figure below we are running a Steady State Detection algorithm that produces a series with two states:\n0 - transient region, 1 - steady region. This binary series is used to identify the state of interest. Then we run the\ngroup_by_region calculation, specifying the state we are interested on, the type of aggregation and where the result\nshould be placed on (timestamp).\n"
      ]
    },
    {
      "cell_type": "code",
      "execution_count": null,
      "metadata": {
        "collapsed": false
      },
      "outputs": [],
      "source": [
        "import os\n\nimport matplotlib.pyplot as plt\nimport pandas as pd\n\nfrom indsl.detect import ssd_cpd\nfrom indsl.resample import group_by_region\n\n\n# Import a dataset with process data\nbase_path = \"\" if __name__ == \"__main__\" else os.path.dirname(__file__)\ndata = pd.read_csv(os.path.join(base_path, \"../../datasets/data/suct_pressure_barg.csv\"), index_col=0)\ndata = data.squeeze()\ndata.index = pd.to_datetime(data.index)\n\n# Steady state detection parameters\nmin_distance = 60\nvar_threshold = 5.0\nslope_threshold = -8.8\n\n# Evaluate the Steady State Conditions\nss_map = ssd_cpd(data, min_distance, var_threshold, slope_threshold)\n\n# Group the process data for the regions where steady state is present\naggregated_result = group_by_region(data, ss_map)\n\n# Plot the process data\nfig, ax1 = plt.subplots(figsize=(9, 7))\nax1.margins(x=0)\nax2 = ax1.twinx()\nax1.plot(data.index, data.values, label=\"Process data\")\n# Plot the aggregated result\nax1.plot(aggregated_result.index, aggregated_result.values, \"ko\", ms=10, label=\"Grouped data\")\nax1.set_ylabel(\"Pressure (barg)\")\n\n# Plot the Steady State regions\nln2 = ax2.fill_between(ss_map.index, ss_map.values, color=\"orange\", alpha=0.2)\nax2.margins(y=0)\nax2.set_yticks([])\n\n# create legend below the plot\nplt.legend(\n    (\n        plt.Line2D(data.index, data.values),\n        plt.Line2D(aggregated_result.index, aggregated_result.values, color=\"black\", marker=\"o\", ms=10, ls=\"\"),\n        ln2,\n    ),\n    (\"Process data\", \"Grouped data\", \"Steady State Regions\"),\n    loc=\"upper center\",\n    bbox_to_anchor=(0.5, -0.05),\n    fancybox=True,\n    ncol=3,\n)\nplt.title(\"Data grouped by region according to steady state\")\nplt.show()"
      ]
    }
  ],
  "metadata": {
    "kernelspec": {
      "display_name": "Python 3",
      "language": "python",
      "name": "python3"
    },
    "language_info": {
      "codemirror_mode": {
        "name": "ipython",
        "version": 3
      },
      "file_extension": ".py",
      "mimetype": "text/x-python",
      "name": "python",
      "nbconvert_exporter": "python",
      "pygments_lexer": "ipython3",
      "version": "3.11.7"
    }
  },
  "nbformat": 4,
  "nbformat_minor": 0
}