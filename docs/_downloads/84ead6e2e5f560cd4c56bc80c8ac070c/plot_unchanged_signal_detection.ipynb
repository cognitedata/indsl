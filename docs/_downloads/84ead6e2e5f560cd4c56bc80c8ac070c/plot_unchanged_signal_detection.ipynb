{
  "cells": [
    {
      "cell_type": "markdown",
      "metadata": {},
      "source": [
        "\n# Unchanged signal identification of time series data\n\nExample of visualizing unchanged signal during a certain time period in a given time series.\n"
      ]
    },
    {
      "cell_type": "code",
      "execution_count": null,
      "metadata": {
        "collapsed": false
      },
      "outputs": [],
      "source": [
        "import random\n\nfrom datetime import datetime, timedelta\n\nimport matplotlib.pyplot as plt\nimport numpy as np\nimport pandas as pd\n\nfrom indsl.detect import unchanged_signal_detector\n\n\n# Generate time series\nstart_date = pd.Timestamp(\"2022/01/01 10:00:00\")\nend_date = pd.Timestamp(\"2022/01/01 11:59:00\")\n\nts_values = np.random.uniform(1, 80, size=120)\ndata = pd.Series(ts_values, index=pd.date_range(start_date, end_date, periods=120), name=\"value\")\n\ndata = data.sort_index()\n\nduration = pd.Timedelta(minutes=10)\n\n# Assign a random value to a set of consecutive time series indices\nrandom_signal_value = np.random.uniform(1, 80)\nnr_consecutive_data_points = 12\n\nstart_position = random.randint(0, int(len(data) - nr_consecutive_data_points))\ndata.values[start_position : start_position + nr_consecutive_data_points] = random_signal_value\n\nunchanged_signal_step_series = unchanged_signal_detector(data, duration=duration, min_nr_data_points=3)\n\n# Resample and forward fill generated step series\nresampled_step_series = unchanged_signal_step_series.resample(\"1min\")\nunchanged_signal_forward_filled = resampled_step_series.ffill()\n\n# Plot unchanged signal identification series against actual data\nfig, ax1 = plt.subplots(figsize=(15, 5))\nax1.plot(data.index, data, label=\"Time series\", marker=\".\", color=\"blue\")\n\nvalues = np.arange(data.index[0], data.index[-1], timedelta(minutes=10)).astype(datetime)\n\nax1.set_xticks(values)\nax1.set_xticklabels([ts.strftime(\"%d-%m-%Y \\n %H:%M:%S\") for ts in values], fontsize=8)\n\nax2 = ax1.twinx()\nax2.plot(data.index, unchanged_signal_forward_filled, label=\"Unchanged signal indicator\", marker=\".\", color=\"red\")\n\nax1.legend(loc=\"upper left\")\nax2.legend(loc=\"upper right\")\n\nplt.xlabel(\"Timestamp\")\nax1.set_ylabel(\"Value\")\nax2.set_ylabel(\"Unchanged signal\")\n\nfig.suptitle(\"Unchanged signal identification for a time series for a duration of 10 minutes\", fontsize=14)\nfig.tight_layout()\n\nplt.show()"
      ]
    }
  ],
  "metadata": {
    "kernelspec": {
      "display_name": "Python 3",
      "language": "python",
      "name": "python3"
    },
    "language_info": {
      "codemirror_mode": {
        "name": "ipython",
        "version": 3
      },
      "file_extension": ".py",
      "mimetype": "text/x-python",
      "name": "python",
      "nbconvert_exporter": "python",
      "pygments_lexer": "ipython3",
      "version": "3.12.7"
    }
  },
  "nbformat": 4,
  "nbformat_minor": 0
}