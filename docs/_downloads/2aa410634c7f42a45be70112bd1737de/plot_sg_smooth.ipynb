{
  "cells": [
    {
      "cell_type": "code",
      "execution_count": null,
      "metadata": {
        "collapsed": false
      },
      "outputs": [],
      "source": [
        "%matplotlib inline"
      ]
    },
    {
      "cell_type": "markdown",
      "metadata": {},
      "source": [
        "\n# Data smoothing with the Savitzky-Golay filter\n\nExample of noise removal from time series data using the Savitzky-Golay smoother.\nWe use data from volumetric flow rate (m3/h) sensor with non-uniform sampling frequency measuring flow into\na compressor.\n\nIn the figure below it can be observed how a small window size (win=21) and linear fit (order=1) exposes the trend\nand some of the noise (data fluctuations). Increasing the window size while keeping a linear fit results in a stronger\nsmoothing of the data. However, increasing the order of the fit to 5 (non-linear fit) produced a nice and smooth\ntrend while allowing the larger fluctuation through.\n"
      ]
    },
    {
      "cell_type": "code",
      "execution_count": null,
      "metadata": {
        "collapsed": false
      },
      "outputs": [],
      "source": [
        "import os\n\nimport matplotlib.pyplot as plt\nimport pandas as pd\n\nfrom indsl.smooth import sg\n\n\nbase_path = \"\" if __name__ == \"__main__\" else os.path.dirname(__file__)\ndata = pd.read_csv(os.path.join(base_path, \"../../datasets/data/vol_flow_rate_m3h.csv\"), index_col=0)\ndata = data.squeeze()\ndata.index = pd.to_datetime(data.index)\n# TODO: Create load_flowrate_data method from above\n\n# Apply the smoother with different settings and plot the results\nplt.figure(1, figsize=[9, 7])\nplt.plot(data, \".\", markersize=2, label=\"RAW\")\n# Short window, order =1 (linear)\nplt.plot(sg(data, window_length=21, polyorder=1), color=\"mediumblue\", linewidth=1, label=\"win=21, Order=1\")\n# Long window, order =1 (linear)\nplt.plot(sg(data, window_length=155, polyorder=1), color=\"k\", linewidth=2, ls=\"--\", label=\"win=155, Order=1\")\n# Long window, order =5 (non-linear)\nplt.plot(sg(data, window_length=155, polyorder=5), color=\"forestgreen\", linewidth=2, ls=\"-\", label=\"win=155, Order=5\")\n\nplt.ylabel(\"Vol. Flow (m3/h)\")\nplt.title(\"Noise removal effect from window size and polynomial order\")\n_ = plt.legend(loc=2)"
      ]
    }
  ],
  "metadata": {
    "kernelspec": {
      "display_name": "Python 3",
      "language": "python",
      "name": "python3"
    },
    "language_info": {
      "codemirror_mode": {
        "name": "ipython",
        "version": 3
      },
      "file_extension": ".py",
      "mimetype": "text/x-python",
      "name": "python",
      "nbconvert_exporter": "python",
      "pygments_lexer": "ipython3",
      "version": "3.8.12"
    }
  },
  "nbformat": 4,
  "nbformat_minor": 0
}