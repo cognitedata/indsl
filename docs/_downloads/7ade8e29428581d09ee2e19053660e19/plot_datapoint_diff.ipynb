{
  "cells": [
    {
      "cell_type": "markdown",
      "metadata": {},
      "source": [
        "\n",
        "# Threshold breach check for difference between two data points over a period of time\n",
        "\n",
        "Example of visualizing breach of threshold in hour count in a time series representing running hours of a piece of\n",
        "equipment.\n"
      ]
    },
    {
      "cell_type": "code",
      "execution_count": null,
      "metadata": {
        "collapsed": false
      },
      "outputs": [],
      "source": [
        "import os\n",
        "\n",
        "from datetime import datetime, timedelta\n",
        "\n",
        "import matplotlib.pyplot as plt\n",
        "import numpy as np\n",
        "import pandas as pd\n",
        "\n",
        "from indsl.data_quality.datapoint_diff import datapoint_diff_over_time_period\n",
        "\n",
        "\n",
        "# import generated data\n",
        "base_path = \"\" if __name__ == \"__main__\" else os.path.dirname(__file__)\n",
        "data = pd.read_csv(os.path.join(base_path, \"../../datasets/data/hour_count.csv\"), index_col=0)\n",
        "data = data.squeeze()\n",
        "data.index = pd.to_datetime(data.index)\n",
        "\n",
        "# apply function to calculate difference between datapoint over a period of 1 day\n",
        "hour_count_default_threshold = datapoint_diff_over_time_period(data, pd.Timedelta(\"1d\"), 24, pd.Timedelta(\"1h\"))\n",
        "\n",
        "# Resample and forward fill generated step series\n",
        "resampled_step_series_default_threshold = hour_count_default_threshold.resample(\"60min\")\n",
        "default_threshold_forward_filled = resampled_step_series_default_threshold.ffill()\n",
        "\n",
        "# Plot unchanged signal identification series against actual data\n",
        "fig, ax1 = plt.subplots(figsize=(15, 5))\n",
        "ax1.plot(data.index, data, label=\"Time series\", marker=\".\", color=\"blue\")\n",
        "\n",
        "values = np.arange(data.index[0], data.index[-1], timedelta(minutes=120)).astype(datetime)\n",
        "\n",
        "ax1.set_xticks(values)\n",
        "ax1.set_xticklabels([ts.strftime(\"%d-%m \\n %H:%M\") for ts in values], fontsize=8)\n",
        "\n",
        "ax2 = ax1.twinx()\n",
        "ax2.plot(\n",
        "    data.index,\n",
        "    default_threshold_forward_filled,\n",
        "    label=\"Threshold breach indicator for datapoint diff over last 24 hours\",\n",
        "    marker=\".\",\n",
        "    color=\"red\",\n",
        ")\n",
        "\n",
        "lines1, labels1 = ax1.get_legend_handles_labels()\n",
        "lines2, labels2 = ax2.get_legend_handles_labels()\n",
        "ax2.legend(lines1 + lines2, labels1 + labels2, loc=0)\n",
        "\n",
        "plt.xlabel(\"Timestamp\")\n",
        "ax1.set_ylabel(\"Timeseries value\")\n",
        "ax2.set_ylabel(\"Hour count threshold breach\")\n",
        "\n",
        "fig.suptitle(\n",
        "    \"Check if difference between two datapoints at a distance of 24 hours exceeds the threshold\",\n",
        "    fontsize=14,\n",
        ")\n",
        "fig.tight_layout()\n",
        "\n",
        "plt.show()"
      ]
    }
  ],
  "metadata": {
    "kernelspec": {
      "display_name": "Python 3",
      "language": "python",
      "name": "python3"
    },
    "language_info": {
      "codemirror_mode": {
        "name": "ipython",
        "version": 3
      },
      "file_extension": ".py",
      "mimetype": "text/x-python",
      "name": "python",
      "nbconvert_exporter": "python",
      "pygments_lexer": "ipython3",
      "version": "3.11.5"
    }
  },
  "nbformat": 4,
  "nbformat_minor": 0
}
