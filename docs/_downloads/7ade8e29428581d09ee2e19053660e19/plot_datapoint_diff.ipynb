{
  "cells": [
    {
      "cell_type": "markdown",
      "metadata": {},
      "source": [
        "\n# Threshold breach check for difference between two data points over a period of time\n\nExample of visualizing breach of threshold in hour count in a time series representing running hours of a piece of\nequipment.\n"
      ]
    },
    {
      "cell_type": "code",
      "execution_count": null,
      "metadata": {
        "collapsed": false
      },
      "outputs": [],
      "source": [
        "import os\n\nfrom datetime import datetime, timedelta\n\nimport matplotlib.pyplot as plt\nimport numpy as np\nimport pandas as pd\n\nfrom indsl.data_quality.datapoint_diff import datapoint_diff_over_time_period\n\n\n# import generated data\nbase_path = \"\" if __name__ == \"__main__\" else os.path.dirname(__file__)\ndata = pd.read_csv(os.path.join(base_path, \"../../datasets/data/hour_count.csv\"), index_col=0)\ndata = data.squeeze()\ndata.index = pd.to_datetime(data.index)\n\n# apply function to calculate difference between datapoint over a period of 1 day\nhour_count_default_threshold = datapoint_diff_over_time_period(data, pd.Timedelta(\"1D\"), 24, pd.Timedelta(\"1H\"))\n\n# Resample and forward fill generated step series\nresampled_step_series_default_threshold = hour_count_default_threshold.resample(\"60min\")\ndefault_threshold_forward_filled = resampled_step_series_default_threshold.ffill()\n\n# Plot unchanged signal identification series against actual data\nfig, ax1 = plt.subplots(figsize=(15, 5))\nax1.plot(data.index, data, label=\"Time series\", marker=\".\", color=\"blue\")\n\nvalues = np.arange(data.index[0], data.index[-1], timedelta(minutes=120)).astype(datetime)\n\nax1.set_xticks(values)\nax1.set_xticklabels([ts.strftime(\"%d-%m \\n %H:%M\") for ts in values], fontsize=8)\n\nax2 = ax1.twinx()\nax2.plot(\n    data.index,\n    default_threshold_forward_filled,\n    label=\"Threshold breach indicator for datapoint diff over last 24 hours\",\n    marker=\".\",\n    color=\"red\",\n)\n\nlines1, labels1 = ax1.get_legend_handles_labels()\nlines2, labels2 = ax2.get_legend_handles_labels()\nax2.legend(lines1 + lines2, labels1 + labels2, loc=0)\n\nplt.xlabel(\"Timestamp\")\nax1.set_ylabel(\"Timeseries value\")\nax2.set_ylabel(\"Hour count threshold breach\")\n\nfig.suptitle(\n    \"Check if difference between two datapoints at a distance of 24 hours exceeds the threshold\",\n    fontsize=14,\n)\nfig.tight_layout()\n\nplt.show()"
      ]
    }
  ],
  "metadata": {
    "kernelspec": {
      "display_name": "Python 3",
      "language": "python",
      "name": "python3"
    },
    "language_info": {
      "codemirror_mode": {
        "name": "ipython",
        "version": 3
      },
      "file_extension": ".py",
      "mimetype": "text/x-python",
      "name": "python",
      "nbconvert_exporter": "python",
      "pygments_lexer": "ipython3",
      "version": "3.10.0"
    }
  },
  "nbformat": 4,
  "nbformat_minor": 0
}