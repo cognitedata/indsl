{
  "cells": [
    {
      "cell_type": "markdown",
      "metadata": {},
      "source": [
        "\n# Change Point Detection with Cusum\n\nExample of change point detection based on the cusum algorithm.\nWe use synthetic data generated from a standard normal distribution of mean 0 and variance 1 with a shift in some of the datapoints to simulate a change in the mean of the data.\n\nIn the figure below it can be observed how the Cusum algorithm identifies increasing and decreasing change point segments.\nThe input parameters used by the algorithm in this example are:\n\n    - threshold = 4 \u2192  Specifies the amplitid threshold for the change in data.\n    - drift = 1.5 \u2192 Specifies the drift term that prevents any change in the absence of change.\n    - alpha = 0.05 \u2192 Specifies the smoothing factor of the data.\n    - detect = \"both\" \u2192 Specifies the type of changes to detect: both increasing and decreasing.\n    - predict_ending = True \u2192 Predicts the end point of the change.\n    - plot_cusum = True \u2192  Plots 2 figures containing the following data:\n        1. Raw data, smoothed data, detected change points, start of the change and end of the change (if ending = True).\n        2. Cumulative sums for increasing and decreasing changes.\n"
      ]
    },
    {
      "cell_type": "code",
      "execution_count": null,
      "metadata": {
        "collapsed": false
      },
      "outputs": [],
      "source": [
        "import matplotlib.pyplot as plt\nimport numpy as np\nimport pandas as pd\n\nfrom matplotlib.dates import DateFormatter\n\nfrom indsl.detect.cusum import Cusum\n\n\n# generate synthetic data with shift\ny = np.random.randn(300)\ny[100:200] += 6\nindex = pd.date_range(start=\"1970\", periods=300, freq=\"1min\")\nraw_data = pd.Series(y, index=index)\n\n# get cusum results and plot the intermidiate figures\nres = Cusum(raw_data, threshold=4, drift=1.5, detect=\"both\", predict_ending=True).cusum(plot_cusum=True)\n\n# Plot the raw data and the resulting binary pd.Series returned from the cusum\nfig, ax = plt.subplots(1, 1, figsize=[15, 5])\nax.plot(raw_data, label=\"Raw data\")\nax.plot(res, label=\"Result\")\nax.set_title(\"Binary results from cusum\")\n_ = ax.legend(loc=\"best\")\n# Formatting\nmyFmt = DateFormatter(\"%b %d, %H:%M\")\nax.xaxis.set_major_formatter(myFmt)\nax.xaxis.set_major_formatter(DateFormatter(\"%b %d, %H:%M\"))\n_ = plt.setp(ax.get_xticklabels(), rotation=45)"
      ]
    }
  ],
  "metadata": {
    "kernelspec": {
      "display_name": "Python 3",
      "language": "python",
      "name": "python3"
    },
    "language_info": {
      "codemirror_mode": {
        "name": "ipython",
        "version": 3
      },
      "file_extension": ".py",
      "mimetype": "text/x-python",
      "name": "python",
      "nbconvert_exporter": "python",
      "pygments_lexer": "ipython3",
      "version": "3.11.5"
    }
  },
  "nbformat": 4,
  "nbformat_minor": 0
}