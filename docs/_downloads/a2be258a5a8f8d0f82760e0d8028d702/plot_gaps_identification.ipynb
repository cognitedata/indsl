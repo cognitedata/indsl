{
  "cells": [
    {
      "cell_type": "markdown",
      "metadata": {},
      "source": [
        "\n# Identifying gaps in time series\n\nIdentifying gaps in data is critical when working with time series. Data gaps can be for instance, the result of an unreliable or defective sensor, and that part of the data might need to be excluded. The exact definition of what is considered a gap requires domain knowledge and is therefore hard to automate. However, mathematical tools can help us to identify **potential gaps** that the domain expert can then evaluate.\n\nIn this example, we apply four common gap identification methods to two time series. The four methods are:\n\n    1. Z-scores: marks a gap if the time step size exceeds 3x the standard deviation of the time steps.\n    2. Modified Z-scores: a modified version of the Z-score method, which uses the median absolute deviation instead of the standard deviation.\n    3. Interquartile range (IQR): Uses IQR, a measure for the spread of the data, to identify gaps.\n    4. Timedelta threshold: marks a gap of the timedelta between points exceeds the threshold.\n\nA good introduction to these methods can be found in [1]. Note that the values of the time series are irrelevant for these gap identification methods: they purely rely on the time steps sizes between data points.\n\nIn the first plot, we apply the four methods to a time series ranging from 1975/05/09 to 1975/05/20 with sampling frequency of 4 hours.\nIn this time series, 35% of the data is removed by introducing four gaps at random locations. The plots show the different characteristics of the gap identification methods.\nIn particular, the modified Z-Score method does not mark any gaps. The reason is that this methods relies on the median, and thus few and strong outliers, like in this case, are not weighted strongly.\nTo test the modified Z-Score method, we create a second time-series with a sample frequency\nof 1 hour, and this time we randomly remove 50% of the data points.\n\n**References**:\n[1] Iglewicz, Boris and David C. Hoaglin (1993), How to Detect and Handle Outliers. American Society for Quality Control, Vol 16.\n"
      ]
    },
    {
      "cell_type": "code",
      "execution_count": null,
      "metadata": {
        "collapsed": false
      },
      "outputs": [],
      "source": [
        "import matplotlib.pyplot as plt\nimport pandas as pd\n\nfrom indsl.data_quality.gaps_identification import (\n    gaps_identification_iqr,\n    gaps_identification_modified_z_scores,\n    gaps_identification_threshold,\n    gaps_identification_z_scores,\n)\nfrom indsl.signals.generator import insert_data_gaps, line\n\n\nstart = pd.Timestamp(\"1975/05/09\")\nend = pd.Timestamp(\"1975/05/20\")\n\n# Create a time series with four gaps of random location and size\nremove = 0.35\ndata = line(start_date=start, end_date=end, slope=0, intercept=0, sample_freq=pd.Timedelta(\"4 h\"))\nts_mult_gaps = insert_data_gaps(data=data, fraction=remove, method=\"Multiple\", num_gaps=4)\n\n# Create a time series with random gaps\nremove = 0.5\ndata = line(start_date=start, end_date=end, slope=0, intercept=0, sample_freq=pd.Timedelta(\"1 h\"))\nts_rand_gaps = insert_data_gaps(data=data, fraction=remove, method=\"Random\")\n\n# Apply gaps identification methods to first time series\nts_gaps_z_scores = gaps_identification_z_scores(ts_mult_gaps)\nts_gaps_mod_z_scores = gaps_identification_modified_z_scores(ts_mult_gaps)\nts_gaps_iqr = gaps_identification_iqr(ts_mult_gaps)\nts_gaps_threshold = gaps_identification_threshold(ts_mult_gaps, time_delta=pd.Timedelta(\"5h\"))\n\nfig, (ax1, ax2, ax3, ax4) = plt.subplots(4, 1, figsize=(9, 7))\nax1.plot(ts_mult_gaps, \"bo\", mec=\"b\", markerfacecolor=\"None\", markersize=4)\nax1.plot(ts_gaps_iqr, \"y-\")\nax2.plot(ts_mult_gaps, \"bo\", mec=\"b\", markerfacecolor=\"None\", markersize=4)\nax2.plot(ts_gaps_z_scores, \"r-\")\nax3.plot(ts_mult_gaps, \"bo\", mec=\"b\", markerfacecolor=\"None\", markersize=4)\nax3.plot(ts_gaps_mod_z_scores, \"g-\")\nax4.plot(ts_mult_gaps, \"bo\", mec=\"b\", markerfacecolor=\"None\", markersize=4)\nax4.plot(ts_gaps_threshold, \"p-\")\n\nax1.set_title(\"IQR\")\nax2.set_title(\"Z-Scores\")\nax3.set_title(\"Modified Z-Scores\")\nax4.set_title(\"Timedelta threshold\")\n\nfig.suptitle(\"Gap identification applied to a time series with four gaps and 35% removal\", fontsize=16)\nfig.tight_layout()\n\n# Apply gaps identification methods to second time series\nts_gaps_z_scores = gaps_identification_z_scores(ts_rand_gaps)\nts_gaps_mod_z_scores = gaps_identification_modified_z_scores(ts_rand_gaps)\nts_gaps_iqr = gaps_identification_iqr(ts_rand_gaps)\nts_gaps_threshold = gaps_identification_threshold(ts_rand_gaps, time_delta=pd.Timedelta(\"3h\"))\n\nfig, (ax1, ax2, ax3, ax4) = plt.subplots(4, 1, figsize=(9, 7))\nax1.plot(ts_rand_gaps, \"bo\", mec=\"b\", markerfacecolor=\"None\", markersize=4)\nax1.plot(ts_gaps_iqr, \"y-\")\nax2.plot(ts_rand_gaps, \"bo\", mec=\"b\", markerfacecolor=\"None\", markersize=4)\nax2.plot(ts_gaps_z_scores, \"r-\")\nax3.plot(ts_rand_gaps, \"bo\", mec=\"b\", markerfacecolor=\"None\", markersize=4)\nax3.plot(ts_gaps_mod_z_scores, \"g-\")\nax4.plot(ts_rand_gaps, \"bo\", mec=\"b\", markerfacecolor=\"None\", markersize=4)\nax4.plot(ts_gaps_threshold, \"p-\")\n\nax1.set_title(\"IQR\")\nax2.set_title(\"Z-Scores\")\nax3.set_title(\"Modified Z-Scores\")\nax4.set_title(\"Timedelta threshold\")\n\nfig.suptitle(\"Gap identification to a time series with random gaps and 50% removal\", fontsize=16)\nfig.tight_layout()\n\nplt.show()"
      ]
    }
  ],
  "metadata": {
    "kernelspec": {
      "display_name": "Python 3",
      "language": "python",
      "name": "python3"
    },
    "language_info": {
      "codemirror_mode": {
        "name": "ipython",
        "version": 3
      },
      "file_extension": ".py",
      "mimetype": "text/x-python",
      "name": "python",
      "nbconvert_exporter": "python",
      "pygments_lexer": "ipython3",
      "version": "3.12.7"
    }
  },
  "nbformat": 4,
  "nbformat_minor": 0
}