{
  "cells": [
    {
      "cell_type": "markdown",
      "metadata": {},
      "source": [
        "\n# Completeness score of time series\n\nIt is important to know how complete a time series is. In this example, the function qualifies a time series on the\nbasis of its completeness score as good, medium, or poor. The completeness score measures how complete measured\nby how much of the data is missing based on its median sampling frequency.\n\nA time series ranging from 1975/05/09 to 1975/05/20 with sampling frequency of 1 hours are taken and\n10%, 30% and 50% data are removed at random locations to create three new time series.\nThe algorithm classifies the time series as good, medium, and poor based on the completeness score.\n"
      ]
    },
    {
      "cell_type": "code",
      "execution_count": null,
      "metadata": {
        "collapsed": false
      },
      "outputs": [],
      "source": [
        "import matplotlib.pyplot as plt\nimport pandas as pd\n\nfrom indsl.data_quality.completeness import completeness_score\nfrom indsl.signals.generator import insert_data_gaps, line\n\n\nstart = pd.Timestamp(\"1975/05/09\")\nend = pd.Timestamp(\"1975/05/20\")\n\n# Create a time series with four gaps of random location and size\n\ndata = line(start_date=start, end_date=end, slope=0, intercept=0, sample_freq=pd.Timedelta(\"1 h\"))\nts_mult_gaps_1 = insert_data_gaps(data=data, fraction=0.10, method=\"Multiple\", num_gaps=4)\nts_mult_gaps_2 = insert_data_gaps(data=data, fraction=0.30, method=\"Random\", num_gaps=10)\nts_mult_gaps_3 = insert_data_gaps(data=data, fraction=0.50, method=\"Multiple\", num_gaps=4)\n\nprops = dict(boxstyle=\"round\", facecolor=\"wheat\", alpha=0.5)\nfig, (ax1, ax2, ax3) = plt.subplots(3, 1, figsize=(9, 7))\n\nax1.plot(ts_mult_gaps_1, \"bo\", mec=\"b\", markerfacecolor=\"None\", markersize=4)\nax1.text(\n    0.05,\n    0.95,\n    completeness_score(ts_mult_gaps_1),\n    transform=ax1.transAxes,\n    fontsize=14,\n    verticalalignment=\"top\",\n    bbox=props,\n)\nax1.set_ylabel(\"Time series\")\nax1.set_title(\"Completeness Score of Timeseries\")\n\nax2.plot(ts_mult_gaps_2, \"bo\", mec=\"b\", markerfacecolor=\"None\", markersize=4)\nax2.text(\n    0.05,\n    0.95,\n    completeness_score(ts_mult_gaps_2),\n    transform=ax2.transAxes,\n    fontsize=14,\n    verticalalignment=\"top\",\n    bbox=props,\n)\nax2.set_ylabel(\"Time series\")\n\nax3.plot(ts_mult_gaps_3, \"bo\", mec=\"b\", markerfacecolor=\"None\", markersize=4)\nax3.text(\n    0.05,\n    0.95,\n    completeness_score(ts_mult_gaps_3),\n    transform=ax3.transAxes,\n    fontsize=14,\n    verticalalignment=\"top\",\n    bbox=props,\n)\nax3.set_ylabel(\"Time series\")\n\nplt.show()"
      ]
    }
  ],
  "metadata": {
    "kernelspec": {
      "display_name": "Python 3",
      "language": "python",
      "name": "python3"
    },
    "language_info": {
      "codemirror_mode": {
        "name": "ipython",
        "version": 3
      },
      "file_extension": ".py",
      "mimetype": "text/x-python",
      "name": "python",
      "nbconvert_exporter": "python",
      "pygments_lexer": "ipython3",
      "version": "3.12.7"
    }
  },
  "nbformat": 4,
  "nbformat_minor": 0
}