{
  "cells": [
    {
      "cell_type": "code",
      "execution_count": null,
      "metadata": {
        "collapsed": false
      },
      "outputs": [],
      "source": [
        "%matplotlib inline"
      ]
    },
    {
      "cell_type": "markdown",
      "metadata": {},
      "source": [
        "\n# Calculate parameters of a centrifugal pump\n\nCalculate pump parameters total head across the pump and difference from\nBest Efficiency Point (BEP) to current operating flowrate and power output\nof a centrifugal pump.\n"
      ]
    },
    {
      "cell_type": "code",
      "execution_count": null,
      "metadata": {
        "collapsed": false
      },
      "outputs": [],
      "source": [
        "import matplotlib.pyplot as plt\nimport numpy as np\nimport pandas as pd\n\nfrom indsl.equipment.pump_parameters import percent_BEP_flowrate, pump_hydraulic_power, pump_shaft_power, total_head\n\n\n# base_path = \"\" if __name__ == \"__main__\" else os.path.dirname(__file__)\ndf = pd.read_pickle(\"../../datasets/data/pump_data.pkl\")\ndf_pump_curve = pd.read_csv(\"../../datasets/data/pump_curve.csv\")"
      ]
    },
    {
      "cell_type": "markdown",
      "metadata": {},
      "source": [
        "First we need to define a few pump and fluid parameters: density of the fluid, Best Efficiency Point (BEP),\nefficiency parameters (polynomial coefficients of a 2nd order polynomial representing the pump efficiency curve),\nand discharge and suction pressure.\n\n"
      ]
    },
    {
      "cell_type": "code",
      "execution_count": null,
      "metadata": {
        "collapsed": false
      },
      "outputs": [],
      "source": [
        "den = pd.Series(np.repeat(1100, len(df)))\nBEP = pd.Series(np.repeat(100, len(df)))\neff_parameter_1 = pd.Series(np.repeat(-8.00781603e-06, len(df)))\neff_parameter_2 = pd.Series(np.repeat(5.19564490e-02, len(df)))\neff_intercept = pd.Series(np.repeat(3.89930657e00, len(df)))\ndf[\"discharge\"] *= 100000\ndf[\"suction\"] *= 100000"
      ]
    },
    {
      "cell_type": "markdown",
      "metadata": {},
      "source": [
        "The coeffients of the pump efficiency curve can be obtained by fitting a second order polynomial through the efficiency vs liquid flowrate datapoints as shown below.\n\n"
      ]
    },
    {
      "cell_type": "code",
      "execution_count": null,
      "metadata": {
        "collapsed": false
      },
      "outputs": [],
      "source": [
        "poly = np.polyfit(df_pump_curve.iloc[:, 0], df_pump_curve.iloc[:, 1], deg=2)\nplt.scatter(df_pump_curve.iloc[:, 0], df_pump_curve.iloc[:, 1])\nplt.xlabel(\"Liquid flowrate [m3/h]\")\nplt.ylabel(\"Pump efficiency [%]\")\nplt.plot(df_pump_curve.iloc[:, 0], np.polyval(poly, df_pump_curve.iloc[:, 0]), label=\"fit\", color=\"orange\")\nplt.text(2000, 10, f\"{poly[0]:.6f}x^2 + {poly[1]:.2f}x + {poly[2]:.2f}\")"
      ]
    },
    {
      "cell_type": "markdown",
      "metadata": {},
      "source": [
        "Plug the above values to the pump parameter functions and display the results.\n\n"
      ]
    },
    {
      "cell_type": "code",
      "execution_count": null,
      "metadata": {
        "collapsed": false
      },
      "outputs": [],
      "source": [
        "df[\"total_head\"] = total_head(df[\"discharge\"], df[\"suction\"], den, align_timesteps=True)\ndf[\"BEP_flowrate\"] = percent_BEP_flowrate(df[\"flowrate\"], BEP, align_timesteps=True)\ndf[\"pump_hydraulic_power\"] = pump_hydraulic_power(df[\"flowrate\"] / 3600, df[\"total_head\"], den, align_timesteps=True)\ndf[\"pump_shaft_power\"] = pump_shaft_power(\n    df[\"pump_hydraulic_power\"], df[\"flowrate\"], eff_parameter_1, eff_parameter_2, eff_intercept, align_timesteps=True\n)\n\nfig, ax = plt.subplots(nrows=7, ncols=1, figsize=(10, 10))\nax[0].plot(df[\"flowrate\"])\nax[0].set_ylabel(\"m3/h\")\nax[0].set_title(\"Liquid flowrate\")\nax[1].plot(df[\"suction\"])\nax[1].set_title(\"Suction pressure\")\nax[1].set_ylabel(\"Pa\")\nax[2].plot(df[\"discharge\"])\nax[2].set_title(\"Discharge pressure\")\nax[2].set_ylabel(\"Pa\")\nax[3].plot(df[\"total_head\"], color=\"green\")\nax[3].set_title(\"Total head across the pump\")\nax[3].set_ylabel(\"m\")\nax[4].plot(df[\"BEP_flowrate\"], color=\"green\")\nax[4].set_title(\"Difference between BEP and current liquid flowrate\")\nax[4].set_ylabel(\"m3/h\")\nax[5].plot(df[\"pump_hydraulic_power\"], color=\"green\")\nax[5].set_title(\"Pump hydraulic horsepower\")\nax[5].set_ylabel(\"W\")\nax[6].plot(df[\"pump_shaft_power\"], color=\"green\")\nax[6].set_title(\"Pump shaft power\")\nax[6].set_ylabel(\"W\")\n\nplt.tight_layout()\nplt.show()"
      ]
    }
  ],
  "metadata": {
    "kernelspec": {
      "display_name": "Python 3",
      "language": "python",
      "name": "python3"
    },
    "language_info": {
      "codemirror_mode": {
        "name": "ipython",
        "version": 3
      },
      "file_extension": ".py",
      "mimetype": "text/x-python",
      "name": "python",
      "nbconvert_exporter": "python",
      "pygments_lexer": "ipython3",
      "version": "3.8.12"
    }
  },
  "nbformat": 4,
  "nbformat_minor": 0
}