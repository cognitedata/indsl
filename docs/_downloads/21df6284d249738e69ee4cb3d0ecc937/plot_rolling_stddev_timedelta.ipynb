{
  "cells": [
    {
      "cell_type": "markdown",
      "metadata": {},
      "source": [
        "\n# Rolling standard deviation of data points time delta\n\nExample of visualizing rolling standard deviation of time delta of time series data to identify dispersion in the\ningestion of data.\n"
      ]
    },
    {
      "cell_type": "code",
      "execution_count": null,
      "metadata": {
        "collapsed": false
      },
      "outputs": [],
      "source": [
        "from datetime import datetime, timedelta\n\nimport matplotlib.pyplot as plt\nimport numpy as np\nimport pandas as pd\n\nfrom indsl.data_quality.rolling_stddev import rolling_stddev_timedelta\nfrom indsl.smooth import sma\n\n\ndata = pd.Series(1, index=pd.date_range(start=\"2022-01-01 10:00:00\", end=\"2022-01-01 11:00:00\", freq=\"1s\")).sample(60)\n\ndata = data.sort_index()\n\n\ntime_window = pd.Timedelta(minutes=5)\n\n# Calculate rolling standard deviation of time delta\nstddev = rolling_stddev_timedelta(data, time_window=time_window).values\n\n# Calculate rolling mean of time delta\nmean = sma(\n    data.index.to_series().diff().astype(\"timedelta64[ms]\").dt.total_seconds().fillna(0) * 1000,\n    time_window=time_window,\n    min_periods=1,\n)\n\n# Plot standard deviation and mean\nfig, ax = plt.subplots(figsize=(15, 5))\nax.title.set_text(\"Standard deviation of time delta\")\nax.plot(data.index, stddev, label=\"Standard deviation\", marker=\".\")\nax.plot(data.index, mean, label=\"Mean\", marker=\".\")\n\nvalues = np.arange(data.index[0], data.index[-1], timedelta(minutes=4)).astype(datetime)\n\nax.set_xticks(values)\nax.set_xticklabels([ts.strftime(\"%d-%m-%Y \\n %H:%M:%S\") for ts in values], fontsize=8)\n\nlegend = ax.legend(loc=\"upper right\")\n\nplt.xlabel(\"Timestamp\")\nplt.ylabel(\"Standard deviation\")\n\nplt.show()"
      ]
    }
  ],
  "metadata": {
    "kernelspec": {
      "display_name": "Python 3",
      "language": "python",
      "name": "python3"
    },
    "language_info": {
      "codemirror_mode": {
        "name": "ipython",
        "version": 3
      },
      "file_extension": ".py",
      "mimetype": "text/x-python",
      "name": "python",
      "nbconvert_exporter": "python",
      "pygments_lexer": "ipython3",
      "version": "3.12.7"
    }
  },
  "nbformat": 4,
  "nbformat_minor": 0
}