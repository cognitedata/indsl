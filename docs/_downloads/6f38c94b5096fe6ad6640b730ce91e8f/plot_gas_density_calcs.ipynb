{
  "cells": [
    {
      "cell_type": "code",
      "execution_count": null,
      "metadata": {
        "collapsed": false
      },
      "outputs": [],
      "source": [
        "%matplotlib inline"
      ]
    },
    {
      "cell_type": "markdown",
      "metadata": {},
      "source": [
        "\n# Calculation of gas density\n\nGas density is calculated using real gas equations from input pressure, temperature and specific gravity of gas.\nThe compressibility factor is calculated explicitly (Beggs and Brill - 1973) for the pressure and temperature combinations.\nThe plot shows the variation of the gas density for methane gas (SG = 0.55) with varying temperature and pressure.\n"
      ]
    },
    {
      "cell_type": "code",
      "execution_count": null,
      "metadata": {
        "collapsed": false
      },
      "outputs": [],
      "source": [
        "import os\n\nimport matplotlib.pyplot as plt\nimport pandas as pd\n\nfrom indsl.oil_and_gas.gas_density_calcs import calculate_gas_density as cd\n\n\n# pressure and temperature series define\nbase_path = \"\" if __name__ == \"__main__\" else os.path.dirname(__file__)\ndata = pd.read_csv(os.path.join(base_path, \"../../datasets/data/density_pr_tmp.csv\"), index_col=0)\nsg = pd.Series([0.5534])\nfig, ax = plt.subplots(1, 2, figsize=[10, 5])\n\nax[0].plot(\n    data[\"T_var (F)\"],\n    cd(data[\"P_con (psi)\"], data[\"T_var (F)\"], sg),\n    color=\"blue\",\n    linestyle=\"dashed\",\n    linewidth=1,\n    markersize=10,\n    marker=\".\",\n    label=\"Gas density at \" + str(data[\"P_con (psi)\"][0]) + \" psi\",\n)\n\nax[0].set_xlabel(\"Temperature (deg F)\")\nax[0].set_ylabel(\"Gas Density (pcf)\")\nax[0].legend()\n\n\nax[1].plot(\n    data[\"P_var (psi)\"],\n    cd(data[\"P_var (psi)\"], data[\"T_con (F)\"], sg),\n    color=\"blue\",\n    linestyle=\"dashed\",\n    linewidth=1,\n    markersize=10,\n    marker=\".\",\n    label=\"Gas density at \" + str(data[\"T_con (F)\"][0]) + \" deg F\",\n)\nax[1].set_xlabel(\"Pressure (psi)\")\nax[1].legend()\n\nplt.show()"
      ]
    }
  ],
  "metadata": {
    "kernelspec": {
      "display_name": "Python 3",
      "language": "python",
      "name": "python3"
    },
    "language_info": {
      "codemirror_mode": {
        "name": "ipython",
        "version": 3
      },
      "file_extension": ".py",
      "mimetype": "text/x-python",
      "name": "python",
      "nbconvert_exporter": "python",
      "pygments_lexer": "ipython3",
      "version": "3.8.12"
    }
  },
  "nbformat": 4,
  "nbformat_minor": 0
}