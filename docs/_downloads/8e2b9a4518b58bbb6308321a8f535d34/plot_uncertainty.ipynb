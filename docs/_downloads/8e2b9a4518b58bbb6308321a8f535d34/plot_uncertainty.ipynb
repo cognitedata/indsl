{
  "cells": [
    {
      "cell_type": "code",
      "execution_count": null,
      "metadata": {
        "collapsed": false
      },
      "outputs": [],
      "source": [
        "%matplotlib inline"
      ]
    },
    {
      "cell_type": "markdown",
      "metadata": {},
      "source": [
        "\n# Relative uncertainty estimation\n\nThis example shows how to estimate the relative uncertainty of a non-linear, non-stationary signal using detrending.\nWe generate a synthetic signal composed of:\n\n    * Three oscillatory signals of different but significant amplitudes\n    * Two polynomial functions or trends\n    * Data drift\n\nTo make the case more realistic, from an industrial perspective, the timestamps are modified to make them nonuniform\nand 35% of the data points are randomly removed. Finally, Gaussian noise with a signal-to-noise ratio of 10db and 20db is\nare added to the left and right half of the data, respectively.\n\nThe figure shows the synthetic signal with and without noise (top), and the estimated relative uncertainty (bottom).\nOn the left half of the data, where the noise is large, the estimated relative uncertainty increases when the signal\nreaches close to 100%. On the right side half of the data, where the noise is small, the relative uncertainty remains closer to 0%.\n"
      ]
    },
    {
      "cell_type": "code",
      "execution_count": null,
      "metadata": {
        "collapsed": false
      },
      "outputs": [],
      "source": [
        "import matplotlib.pyplot as plt\nimport numpy as np\nimport pandas as pd\n\nfrom indsl.data_quality import uncertainty_rstd\nfrom indsl.signals import insert_data_gaps, line, perturb_timestamp, sine_wave, white_noise\n\n\nseed = 21\n\nstart_date = pd.Timestamp(\"2022-02-28\")\nend_date = pd.Timestamp(\"2022-03-02\")\n\n# Wave 1: Small amplitude, long wave period\nwave01 = sine_wave(\n    start_date=start_date,\n    end_date=end_date,\n    sample_freq=pd.Timedelta(\"1m\"),\n    wave_period=pd.Timedelta(\"6h\"),\n    wave_mean=0,\n    wave_amplitude=6.5,\n    wave_phase=0,\n)\nwave01 = np.exp(wave01)\n\n# Wave 2: Large amplitude, short wave period\nwave02 = sine_wave(\n    start_date=start_date,\n    end_date=end_date,\n    sample_freq=pd.Timedelta(\"1m\"),\n    wave_period=pd.Timedelta(\"1h\"),\n    wave_mean=0,\n    wave_amplitude=100,\n    wave_phase=0,\n)\n\n# Wave 3: Large amplitude, short wave period\nwave03 = sine_wave(\n    start_date=start_date,\n    end_date=end_date,\n    sample_freq=pd.Timedelta(\"1m\"),\n    wave_period=pd.Timedelta(\"3h\"),\n    wave_mean=5,\n    wave_amplitude=35,\n    wave_phase=np.pi,\n)\n\n# Trends\ntrend_01 = (\n    line(start_date=start_date, end_date=end_date, sample_freq=pd.Timedelta(\"1m\"), slope=0.00008, intercept=1) ** 3\n)\n\ntrend_02 = (\n    line(start_date=start_date, end_date=end_date, sample_freq=pd.Timedelta(\"1m\"), slope=-0.00005, intercept=5) ** 5\n)\n\ndrift = line(start_date=start_date, end_date=end_date, sample_freq=pd.Timedelta(\"1m\"), slope=0.00005, intercept=0)\n\nsignal = wave01 + wave02 + wave03 + trend_01 + trend_02 - drift\nN = len(signal)\nsignal_w_noise_high_db = perturb_timestamp(white_noise(signal, snr_db=20, seed=seed))\nsignal_w_noise_low_db = perturb_timestamp(white_noise(signal, snr_db=10, seed=seed))\nsignal_w_noise = pd.concat([signal_w_noise_low_db[: N // 2], signal_w_noise_high_db[N // 2 :]])\n\nsignal_to_analyse = insert_data_gaps(signal_w_noise, method=\"Random\", fraction=0.35)\n\nuncertainty = uncertainty_rstd(signal_to_analyse)\n\nfig, ax = plt.subplots(2, 1, figsize=[9, 7])\n\nax[0].plot(signal_to_analyse, label=\"Signal with noise and perturbation\")\nax[0].plot(signal, label=\"Synthetic signal\")\nax[0].set_title(\"Signal\")\nax[0].set_ylabel(\"Amplitude\")\nax[0].legend()\n\nax[1].plot(100 * uncertainty, label=\"Estimated relative uncertainty\", color=\"r\")\nax[1].set_title(\"Relative uncertainty\")\nax[1].set_ylabel(\"Percentage\")\nax[1].legend()\n\nplt.show()"
      ]
    }
  ],
  "metadata": {
    "kernelspec": {
      "display_name": "Python 3",
      "language": "python",
      "name": "python3"
    },
    "language_info": {
      "codemirror_mode": {
        "name": "ipython",
        "version": 3
      },
      "file_extension": ".py",
      "mimetype": "text/x-python",
      "name": "python",
      "nbconvert_exporter": "python",
      "pygments_lexer": "ipython3",
      "version": "3.8.12"
    }
  },
  "nbformat": 4,
  "nbformat_minor": 0
}