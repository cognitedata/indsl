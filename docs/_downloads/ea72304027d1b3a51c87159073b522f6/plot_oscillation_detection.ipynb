{
  "cells": [
    {
      "cell_type": "markdown",
      "metadata": {},
      "source": [
        "\n# Oscillation detection using linear predictive coding\n\nIdentifies if a signal contains one or more oscillatory components, based on a method described by Sharma et al.\n"
      ]
    },
    {
      "cell_type": "code",
      "execution_count": null,
      "metadata": {
        "collapsed": false
      },
      "outputs": [],
      "source": [
        "import os\n\nimport matplotlib.pyplot as plt\nimport numpy as np\nimport pandas as pd\n\nfrom indsl.detect.oscillation_detector import helper_oscillation_detector, oscillation_detector\n\n\n# brownian noise wave signal\nbase_path = \"\" if __name__ == \"__main__\" else os.path.dirname(__file__)\ndata = pd.read_csv(os.path.join(base_path, \"../../datasets/data/brownian_noise_wave.csv\"), index_col=0).squeeze(\n    \"columns\"\n)\n\n# convert str to datetime\ndata.index = pd.to_datetime(data.index)\n\n# call oscillation detector function\nresults = oscillation_detector(data)\n\n# output dictionary\ndict_output = helper_oscillation_detector(data)\n\n# plot the results\nfig, ax = plt.subplots(1, 1, figsize=[10, 5])\n\nax.plot(\n    results.index,\n    results.values,\n    color=\"blue\",\n    linestyle=\"dashed\",\n    linewidth=1,\n    markersize=1,\n    marker=\".\",\n)\n\nax.set_xlabel(\"freq (Hz)\")\nax.set_ylabel(\"detection (1: detected, 0: no detection)\")\nax.set_title(\"frequency regions where oscillation detected\")\nax.plot(results.index[np.where(results.values == 1)], 1, \"go\", markersize=8, alpha=0.5)\n\nplt.show()"
      ]
    }
  ],
  "metadata": {
    "kernelspec": {
      "display_name": "Python 3",
      "language": "python",
      "name": "python3"
    },
    "language_info": {
      "codemirror_mode": {
        "name": "ipython",
        "version": 3
      },
      "file_extension": ".py",
      "mimetype": "text/x-python",
      "name": "python",
      "nbconvert_exporter": "python",
      "pygments_lexer": "ipython3",
      "version": "3.12.7"
    }
  },
  "nbformat": 4,
  "nbformat_minor": 0
}