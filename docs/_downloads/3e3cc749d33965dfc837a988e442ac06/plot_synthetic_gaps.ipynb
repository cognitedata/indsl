{
  "cells": [
    {
      "cell_type": "code",
      "execution_count": null,
      "metadata": {
        "collapsed": false
      },
      "outputs": [],
      "source": [
        "%matplotlib inline"
      ]
    },
    {
      "cell_type": "markdown",
      "metadata": {},
      "source": [
        "\n# Inserting gaps in a time series\n\nWe will generate a linear time series with a sampling frequency of 4 hours, from 1975/05/09 to 1975/05/20,\nand remove 35% of the data using three different methods:\n\n    1. Random: removes data points at random location\n    2. Single: create a single data gap\n    3. Multiple: create a given number of gaps at random locations and of random sizes\n"
      ]
    },
    {
      "cell_type": "code",
      "execution_count": null,
      "metadata": {
        "collapsed": false
      },
      "outputs": [],
      "source": [
        "import matplotlib.pyplot as plt\nimport pandas as pd\n\nfrom indsl.signals.generator import insert_data_gaps, line\n\n\nstart = pd.Timestamp(\"1975/05/09\")\nend = pd.Timestamp(\"1975/05/20\")\nline1 = line(start_date=start, end_date=end, slope=1, intercept=5, sample_freq=pd.Timedelta(\"4 h\"))\n\nremove = 0.35\n\nfig, (ax1, ax2, ax3) = plt.subplots(3, 1, figsize=(9, 7))\n\n# Random Gaps\nax1.plot(line1, \"-\")\nts_rnd_gaps = insert_data_gaps(data=line1, fraction=remove, method=\"Random\")\nax1.plot(ts_rnd_gaps, \"bo\", mec=\"b\", markerfacecolor=\"None\", markersize=4)\n\n# Single gap\nts_1_gap = insert_data_gaps(data=line1, fraction=remove, method=\"Single\")\nax2.plot(line1, \"-\")\nax2.plot(ts_1_gap, \"bo\", mec=\"b\", markerfacecolor=\"None\", markersize=4)\n\n# Multiple gaps\nts_mult_gaps = insert_data_gaps(data=line1, fraction=remove, method=\"Multiple\", num_gaps=4)\nax3.plot(line1, \"-\")\nax3.plot(ts_mult_gaps, \"bo\", mec=\"b\", markerfacecolor=\"None\", markersize=4)\nax1.set_title(\"Random gaps\")\nax2.set_title(\"Single gap\")\nax3.set_title(\"Four non-overlapping gaps with random sizes and locations \")\nax1.get_xaxis().set_visible(False)\nax2.get_xaxis().set_visible(False)\nfig.tight_layout()\n\nplt.show()"
      ]
    }
  ],
  "metadata": {
    "kernelspec": {
      "display_name": "Python 3",
      "language": "python",
      "name": "python3"
    },
    "language_info": {
      "codemirror_mode": {
        "name": "ipython",
        "version": 3
      },
      "file_extension": ".py",
      "mimetype": "text/x-python",
      "name": "python",
      "nbconvert_exporter": "python",
      "pygments_lexer": "ipython3",
      "version": "3.8.8"
    }
  },
  "nbformat": 4,
  "nbformat_minor": 0
}