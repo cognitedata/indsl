{
  "cells": [
    {
      "cell_type": "code",
      "execution_count": null,
      "metadata": {
        "collapsed": false
      },
      "outputs": [],
      "source": [
        "%matplotlib inline"
      ]
    },
    {
      "cell_type": "markdown",
      "metadata": {},
      "source": [
        "\n# Calculation of shut-in pressure\n\nIn reservoir and production engineering, knowledge of the shut-in pressure can help estimate reservoir properties, drawdown and\nproductivity index. In this example, we use data from the bottom-hole pressure signal to calculate shut-in pressure after 6 and\n24 hrs of the shut-in. The CSV file also contains a column with binary signal obtained from the shut-in detector. The signal was\nobtained using wing valve data of the corresponding well and using the following settings in the detector function: wing valve\nthreshold is calculated, minimum duration of shut-in is 25 hrs and minimum distance between shut-ins is 24 hrs.\n\nThe figure shows the original pressure signal, 6 and 24 hrs shut-in pressure values as well as detected shut-ins.\n"
      ]
    },
    {
      "cell_type": "code",
      "execution_count": null,
      "metadata": {
        "collapsed": false
      },
      "outputs": [],
      "source": [
        "import os\n\nimport matplotlib.pyplot as plt\nimport pandas as pd\n\nfrom indsl.oil_and_gas.shut_in_variables import calculate_shutin_variable as shvar\n\n\n# Dataset contains the following columns: [\"Bottom_Hole_Pressure\", \"Shut_in_detected_25hrs\"]\nbase_path = \"\" if __name__ == \"__main__\" else os.path.dirname(__file__)\ndata = pd.read_csv(\n    os.path.join(base_path, \"../../datasets/data/shut_in_pressure_data.gz\"),\n    compression=\"gzip\",\n    index_col=0,\n    parse_dates=True,\n    dtype={\"Shut_in_detected_25hrs\": int},\n)\n# TODO: Create load_pressure_shut_in_data method from above\n\nfig, ax = plt.subplots(figsize=[9, 3.5])\nax.plot(data[\"Bottom_Hole_Pressure\"], label=\"Raw pressure data\", color=\"k\", linewidth=1)\n# Plot 6 hr shut-in pressure\nax.plot(\n    shvar(data[\"Bottom_Hole_Pressure\"], data[\"Shut_in_detected_25hrs\"], 6),\n    label=\"Shut-in pressure - 6 hrs\",\n    color=\"r\",\n    linewidth=1,\n    marker=\"o\",\n    markersize=4,\n)\n# Plot 24 hr shut-in pressure\nax.plot(\n    shvar(data[\"Bottom_Hole_Pressure\"], data[\"Shut_in_detected_25hrs\"], 24),\n    label=\"Shut-in pressure - 24 hrs\",\n    color=\"g\",\n    linewidth=1,\n    marker=\"o\",\n    markersize=4,\n)\n# plot previously detected shut-ins\nax.fill_between(\n    data.index,\n    data[\"Bottom_Hole_Pressure\"] * (~data[\"Shut_in_detected_25hrs\"] + 2),\n    alpha=0.2,\n    facecolor=\"gray\",\n    label=\"Detected shut-in\",\n)\nax.set_ylabel(\"Pressure, [psig]\")\nax.set_title(\"Calculation of Shut-in Pressure\")\nax.set_ylim(13000, 20000)\n\nplt.legend(loc=3, facecolor=\"white\", framealpha=1)\nplt.show()"
      ]
    }
  ],
  "metadata": {
    "kernelspec": {
      "display_name": "Python 3",
      "language": "python",
      "name": "python3"
    },
    "language_info": {
      "codemirror_mode": {
        "name": "ipython",
        "version": 3
      },
      "file_extension": ".py",
      "mimetype": "text/x-python",
      "name": "python",
      "nbconvert_exporter": "python",
      "pygments_lexer": "ipython3",
      "version": "3.8.12"
    }
  },
  "nbformat": 4,
  "nbformat_minor": 0
}