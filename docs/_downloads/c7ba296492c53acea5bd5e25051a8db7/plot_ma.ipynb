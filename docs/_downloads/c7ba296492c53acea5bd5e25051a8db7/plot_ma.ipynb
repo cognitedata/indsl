{
  "cells": [
    {
      "cell_type": "markdown",
      "metadata": {},
      "source": [
        "\n# Data smoothing with Moving Averages\n\nExample of noise removal from time series data using the Simple Moving Average (SMA), Linear Weighted Moving Average\n(LWMA) and Exponential Weighted Moving Average smoother (EWMA).\nWe use data from volumetric flow rate (m3/h) sensor with non-uniform sampling frequency measuring flow into\na compressor.\nIn the figure below it can be observed that using SMA produces a less noisy time series, but changes in the trend\nare seen with a greater delay than LWMA or EWMA.\nIncreasing the window size results in a stronger smoothing of the data.\n"
      ]
    },
    {
      "cell_type": "code",
      "execution_count": null,
      "metadata": {
        "collapsed": false
      },
      "outputs": [],
      "source": [
        "import os\n\nimport matplotlib.pyplot as plt\nimport pandas as pd\n\nfrom indsl.smooth import ewma, lwma, sma\n\n\nbase_path = \"\" if __name__ == \"__main__\" else os.path.dirname(__file__)\ndata = pd.read_csv(os.path.join(base_path, \"../../datasets/data/vol_flow_rate_m3h.csv\"), index_col=0)\ndata = data.squeeze()\ndata.index = pd.to_datetime(data.index)\n\n_, axs = plt.subplots(1, 2, figsize=(15, 7))\n\n# Calculate the different moving averages for a time window of 20min and plot the results\naxs[0].plot(data, \".\", markersize=2, label=\"RAW\")\ntime_window = \"20min\"\naxs[0].plot(\n    sma(data, time_window=pd.Timedelta(time_window), min_periods=1),\n    color=\"mediumblue\",\n    linewidth=2,\n    label=f\"SMA win={time_window}\",\n)\naxs[0].plot(\n    lwma(data, time_window=pd.Timedelta(time_window), min_periods=1),\n    color=\"darkorange\",\n    linewidth=2,\n    label=f\"LWMA win={time_window}\",\n)\naxs[0].plot(\n    ewma(data, time_window=pd.Timedelta(time_window), min_periods=1),\n    color=\"forestgreen\",\n    linewidth=2,\n    label=f\"EWMA win={time_window}\",\n)\naxs[0].set_ylabel(\"Vol. Flow (m3/h)\")\naxs[0].set_title(\"Noise removal effect from window size\")\n_ = axs[0].legend(loc=2)\n\n# Calculate the different moving averages for a time window of 50min and plot the results\naxs[1].plot(data, \".\", markersize=2, label=\"RAW\")\ntime_window = \"50min\"\naxs[1].plot(\n    sma(data, time_window=pd.Timedelta(time_window), min_periods=1),\n    color=\"mediumblue\",\n    linewidth=2,\n    label=f\"SMA win={time_window}\",\n)\naxs[1].plot(\n    lwma(data, time_window=pd.Timedelta(time_window), min_periods=1),\n    color=\"darkorange\",\n    linewidth=2,\n    label=f\"LWMA win={time_window}\",\n)\naxs[1].plot(\n    ewma(data, time_window=pd.Timedelta(time_window), min_periods=1),\n    color=\"forestgreen\",\n    linewidth=2,\n    label=f\"EWMA win={time_window}\",\n)\naxs[1].set_ylabel(\"Vol. Flow (m3/h)\")\naxs[1].set_title(\"Noise removal effect from window size\")\n_ = axs[1].legend(loc=2)\n\n_ = plt.suptitle(\"MOVING AVERAGES\")\nplt.show()"
      ]
    }
  ],
  "metadata": {
    "kernelspec": {
      "display_name": "Python 3",
      "language": "python",
      "name": "python3"
    },
    "language_info": {
      "codemirror_mode": {
        "name": "ipython",
        "version": 3
      },
      "file_extension": ".py",
      "mimetype": "text/x-python",
      "name": "python",
      "nbconvert_exporter": "python",
      "pygments_lexer": "ipython3",
      "version": "3.12.7"
    }
  },
  "nbformat": 4,
  "nbformat_minor": 0
}