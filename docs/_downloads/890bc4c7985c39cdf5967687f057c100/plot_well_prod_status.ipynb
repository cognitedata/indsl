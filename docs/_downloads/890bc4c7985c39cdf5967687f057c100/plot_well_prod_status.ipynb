{
  "cells": [
    {
      "cell_type": "markdown",
      "metadata": {},
      "source": [
        "\n# Check for the production status of a well\n\nThe data is from an unnamed well in the form of a pickle file. The data is a dataframe that consists of a time\nseries of master, wing and choke valves. The duration of the data is about 50 days. The figure shows the time\nseries of the valves and the output of the function which is the production status of the well (0 is OFF and 1\nis ON).\n"
      ]
    },
    {
      "cell_type": "code",
      "execution_count": null,
      "metadata": {
        "collapsed": false
      },
      "outputs": [],
      "source": [
        "import os\n\nimport matplotlib.pyplot as plt\nimport pandas as pd\n\nfrom indsl.oil_and_gas.well_prod_status import calculate_well_prod_status\n\n\nbase_path = \"\" if __name__ == \"__main__\" else os.path.dirname(__file__)\ndata = pd.read_pickle(os.path.join(base_path, \"../../datasets/data/valve_data.pkl\"))\n\nmaster = data.iloc[:, 0]\nwing = data.iloc[:, 1]\nchoke = data.iloc[:, 2]\n\nprod_status = calculate_well_prod_status(master, wing, choke, threshold_choke=5, threshold_master=1, threshold_wing=1)\nnames = [\"master valve\", \"wing valve\", \"choke valve\", \"well production status\"]\ny_label = [\"-\", \"-\", \"%\", \"-\"]\ny_lim_max = [1.05, 1.05, 105, 1.05]\ny_lim_min = [-0.05, -0.05, -0.05, -0.05]\n\nfig, ax = plt.subplots(figsize=(12, 12), nrows=4, ncols=1)\nax = ax.ravel()\nfor idx, i in enumerate([master, wing, choke, prod_status]):\n    ax[idx].plot(i)\n    ax[idx].set_title(names[idx])\n    ax[idx].set_ylabel(y_label[idx])\n    ax[idx].set_ylim(y_lim_min[idx], y_lim_max[idx])\n\nplt.tight_layout()\nplt.show()"
      ]
    }
  ],
  "metadata": {
    "kernelspec": {
      "display_name": "Python 3",
      "language": "python",
      "name": "python3"
    },
    "language_info": {
      "codemirror_mode": {
        "name": "ipython",
        "version": 3
      },
      "file_extension": ".py",
      "mimetype": "text/x-python",
      "name": "python",
      "nbconvert_exporter": "python",
      "pygments_lexer": "ipython3",
      "version": "3.12.7"
    }
  },
  "nbformat": 4,
  "nbformat_minor": 0
}