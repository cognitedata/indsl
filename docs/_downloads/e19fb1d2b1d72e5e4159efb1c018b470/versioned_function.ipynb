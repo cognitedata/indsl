{
  "cells": [
    {
      "cell_type": "code",
      "execution_count": null,
      "metadata": {
        "collapsed": false
      },
      "outputs": [],
      "source": [
        "%matplotlib inline"
      ]
    },
    {
      "cell_type": "markdown",
      "metadata": {},
      "source": [
        "\n",
        "# Function versioning\n",
        "\n",
        "InDSL comes with the :py:mod:`indsl.versioning` module, which allows to implement multiple versions of InDSL functions.\n",
        "As a library user, one can then select and execute a specific function version.\n",
        "\n",
        "## Example\n",
        "\n",
        "In this example, we implement the `abs_diff` function, which computes the element-wise absolute difference of two time-series.\n",
        "We will first implement a naive version of that function, which we name version 1.0 (versioning in inDSL always starts with 1.0),\n",
        "followed by a more robust version 1.1.\n"
      ]
    },
    {
      "cell_type": "markdown",
      "metadata": {},
      "source": [
        "## Implementation\n",
        "\n",
        "### Implementation of v1.0\n",
        "\n",
        "We begin with a simple implementation:\n",
        "\n"
      ]
    },
    {
      "cell_type": "code",
      "execution_count": null,
      "metadata": {
        "collapsed": false
      },
      "outputs": [],
      "source": [
        "import pandas as pd\n",
        "\n",
        "from indsl import versioning\n",
        "\n",
        "\n",
        "@versioning.register(version=\"1.0\", deprecated=True)\n",
        "def abs_diff(a: pd.Series, b: pd.Series) -> pd.Series:\n",
        "    return (a - b).abs()"
      ]
    },
    {
      "cell_type": "markdown",
      "metadata": {},
      "source": [
        "They key in this function definition is the :func:`indsl.versioning.register` decorator.\n",
        "This decorator registers the function as a versioned function with name `abs_diff` and version `1.0`.\n",
        "We also mark the function as deprecated, since we will soon implement a new version of the function.\n",
        "This means that we can retrieve and execute this version, even after newer version of the same functions have been registered.\n",
        "\n"
      ]
    },
    {
      "cell_type": "markdown",
      "metadata": {},
      "source": [
        "Our, initial implementation is not very robust and results easily in `nan` outputs.\n",
        "This happens specifically when we apply `abs`diff` to time-series with non-matching indices:\n",
        "\n"
      ]
    },
    {
      "cell_type": "code",
      "execution_count": null,
      "metadata": {
        "collapsed": false
      },
      "outputs": [],
      "source": [
        "idx = pd.date_range(\"2022-01-01\", periods=5, freq=\"1h\")\n",
        "a = pd.Series([1, 2, 3, 4, 5], index=idx)\n",
        "\n",
        "idx = pd.date_range(\"2022-01-01\", periods=3, freq=\"2h\")\n",
        "b = pd.Series([1, 3, 5], index=idx)\n",
        "\n",
        "abs_diff(a, b)"
      ]
    },
    {
      "cell_type": "markdown",
      "metadata": {},
      "source": [
        "Version 1.1 will fix this issue through a more robust implementation.\n",
        "\n"
      ]
    },
    {
      "cell_type": "markdown",
      "metadata": {},
      "source": [
        "### Implementation of v1.1\n",
        "\n",
        "Next, we implement the new version of the `abs_diff` and mark it as version 1.1.\n",
        "\n",
        "\n"
      ]
    },
    {
      "cell_type": "code",
      "execution_count": null,
      "metadata": {
        "collapsed": false
      },
      "outputs": [],
      "source": [
        "from indsl.resample import reindex  # noqa\n",
        "\n",
        "\n",
        "@versioning.register(version=\"1.1\")  # type: ignore\n",
        "def abs_diff(a: pd.Series, b: pd.Series) -> pd.Series:\n",
        "    a, b = reindex(a, b)\n",
        "    return (a - b).abs()"
      ]
    },
    {
      "cell_type": "markdown",
      "metadata": {},
      "source": [
        "We rely on the build-in function `reindex` to align the indices of the time-series (using linear-interpolation) before performing the operations.\n",
        "\n"
      ]
    },
    {
      "cell_type": "code",
      "execution_count": null,
      "metadata": {
        "collapsed": false
      },
      "outputs": [],
      "source": [
        "abs_diff(a, b)"
      ]
    },
    {
      "cell_type": "markdown",
      "metadata": {},
      "source": [
        "### Getting versioned functions and their versions\n",
        "\n",
        "\n",
        "We can get a list of all versioned functions with:\n",
        "\n"
      ]
    },
    {
      "cell_type": "code",
      "execution_count": null,
      "metadata": {
        "collapsed": false
      },
      "outputs": [],
      "source": [
        "versioning.get_registered_functions()"
      ]
    },
    {
      "cell_type": "markdown",
      "metadata": {},
      "source": [
        "We can retrieve which versions we have of a function with:\n",
        "\n"
      ]
    },
    {
      "cell_type": "code",
      "execution_count": null,
      "metadata": {
        "collapsed": false
      },
      "outputs": [],
      "source": [
        "versioning.get_versions(\"abs_diff\")"
      ]
    },
    {
      "cell_type": "markdown",
      "metadata": {},
      "source": [
        "### Running versioned functions\n",
        "\n",
        "\n",
        "We can access and run specific function version with the `versioning.get` command:\n",
        "\n"
      ]
    },
    {
      "cell_type": "code",
      "execution_count": null,
      "metadata": {
        "collapsed": false
      },
      "outputs": [],
      "source": [
        "abs_diff_v1 = versioning.get(\"abs_diff\", version=\"1.0\")\n",
        "abs_diff_v1(a, b)"
      ]
    },
    {
      "cell_type": "markdown",
      "metadata": {},
      "source": [
        "Omitting the version argument will automatically select the latest version\n",
        "\n"
      ]
    },
    {
      "cell_type": "code",
      "execution_count": null,
      "metadata": {
        "collapsed": false
      },
      "outputs": [],
      "source": [
        "abs_diff_v1_1 = versioning.get(\"abs_diff\")\n",
        "abs_diff_v1_1(a, b)\n",
        "\n",
        "# sphinx_gallery_thumbnail_path = '_static/images/versioning_thumbnail.png'"
      ]
    }
  ],
  "metadata": {
    "kernelspec": {
      "display_name": "Python 3",
      "language": "python",
      "name": "python3"
    },
    "language_info": {
      "codemirror_mode": {
        "name": "ipython",
        "version": 3
      },
      "file_extension": ".py",
      "mimetype": "text/x-python",
      "name": "python",
      "nbconvert_exporter": "python",
      "pygments_lexer": "ipython3",
      "version": "3.8.12"
    }
  },
  "nbformat": 4,
  "nbformat_minor": 0
}
