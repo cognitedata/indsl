{
  "cells": [
    {
      "cell_type": "code",
      "execution_count": null,
      "metadata": {
        "collapsed": false
      },
      "outputs": [],
      "source": [
        "%matplotlib inline"
      ]
    },
    {
      "cell_type": "markdown",
      "metadata": {},
      "source": [
        "\n# Univariate Polynomial\n\nWe will generate three univariate polynomials of a given time series. The order of the\npolynomials will be 1, 2 and 3, respectively.\n"
      ]
    },
    {
      "cell_type": "code",
      "execution_count": null,
      "metadata": {
        "collapsed": false
      },
      "outputs": [],
      "source": [
        "import matplotlib.pyplot as plt\nimport pandas as pd\n\nfrom indsl.signals.generator import line\nfrom indsl.signals.polynomial import univariate_polynomial\n\n\nstart = pd.Timestamp(\"1975/05/09\")\nend = pd.Timestamp(\"1975/05/15\")\n\n# Create a time series\n\ndata = line(start_date=start, end_date=end, slope=1e-4, intercept=0)\ncoefficients_1 = [0, 1]\ncoefficients_2 = [0, 1, 1]\ncoefficients_3 = [0, 1, 1, 1]\n\nfig, (ax1, ax2, ax3, ax4) = plt.subplots(4, 1, figsize=(12, 10))\nprops = dict(boxstyle=\"round\", facecolor=\"wheat\", alpha=0.5)\n\nax1.plot(data, \"bo\", mec=\"b\", markerfacecolor=\"None\", markersize=4)\nax1.text(\n    0.05,\n    0.95,\n    \"Input Time Series\",\n    transform=ax1.transAxes,\n    fontsize=14,\n    verticalalignment=\"top\",\n    bbox=props,\n)\nax1.set_ylabel(\"Time Series\")\nax1.set_title(\"Univariate Polynomial \")\n\n\nax2.plot(univariate_polynomial(data, coefficients_1), \"bo\", mec=\"b\", markerfacecolor=\"None\", markersize=4)\nax2.text(\n    0.05,\n    0.95,\n    \"Polynomial of order 1\",\n    transform=ax2.transAxes,\n    fontsize=14,\n    verticalalignment=\"top\",\n    bbox=props,\n)\nax2.set_ylabel(\"Time Series\")\n\n\nax3.plot(univariate_polynomial(data, coefficients_2), \"bo\", mec=\"b\", markerfacecolor=\"None\", markersize=4)\nax3.text(\n    0.05,\n    0.95,\n    \"Polynomial of order 2\",\n    transform=ax3.transAxes,\n    fontsize=14,\n    verticalalignment=\"top\",\n    bbox=props,\n)\nax3.set_ylabel(\"Time Series\")\n\nax4.plot(univariate_polynomial(data, coefficients_3), \"bo\", mec=\"b\", markerfacecolor=\"None\", markersize=4)\nax4.text(\n    0.05,\n    0.95,\n    \"Polynomial of order 3\",\n    transform=ax4.transAxes,\n    fontsize=14,\n    verticalalignment=\"top\",\n    bbox=props,\n)\nax4.set_ylabel(\"Time Series\")\n\n\nplt.show()"
      ]
    }
  ],
  "metadata": {
    "kernelspec": {
      "display_name": "Python 3",
      "language": "python",
      "name": "python3"
    },
    "language_info": {
      "codemirror_mode": {
        "name": "ipython",
        "version": 3
      },
      "file_extension": ".py",
      "mimetype": "text/x-python",
      "name": "python",
      "nbconvert_exporter": "python",
      "pygments_lexer": "ipython3",
      "version": "3.8.8"
    }
  },
  "nbformat": 4,
  "nbformat_minor": 0
}