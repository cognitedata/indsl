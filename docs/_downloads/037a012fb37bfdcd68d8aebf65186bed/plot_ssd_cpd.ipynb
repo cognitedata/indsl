{
  "cells": [
    {
      "cell_type": "code",
      "execution_count": null,
      "metadata": {
        "collapsed": false
      },
      "outputs": [],
      "source": [
        "%matplotlib inline"
      ]
    },
    {
      "cell_type": "markdown",
      "metadata": {},
      "source": [
        "\n# Steady State Detection: Change Point\n\nExample of steady state detection (SSD) based on the ED-PELT change point detection (CPD) algorithm. We use data from a\ncompressor suction pressure sensor (in barg). The dataset contains 4 days of process of process data (sampled using 1m\ngranularity).\n\nIn the figure below it can be observed how the CPD algorithm identifies change point segments in which steady state\nconditions are evaluated. The input parameters used by the algorithms in this example are:\n\n    - min_distance = 60 \u2192 specifies the minimum size of segments to be detected (CPD and SSD algorithms)\n    - var_threshold = 5.0 \u2192 specify the maximum variance allowed for each region (SSD algorithm)\n    - slope_threshold = -8.8 \u2192 specify the maximum slope (10^-8.8) allowed for each region (SSD algorithm)\n"
      ]
    },
    {
      "cell_type": "code",
      "execution_count": null,
      "metadata": {
        "collapsed": false
      },
      "outputs": [],
      "source": [
        "import os\n\nimport matplotlib.pyplot as plt\nimport pandas as pd\n\nfrom indsl.detect import cpd_ed_pelt, ssd_cpd\n\n\nbase_path = \"\" if __name__ == \"__main__\" else os.path.dirname(__file__)\ndata = pd.read_csv(os.path.join(base_path, \"../../datasets/data/suct_pressure_barg.csv\"), index_col=0)\ndata = data.squeeze()\ndata.index = pd.to_datetime(data.index)\n# TODO: Create load_pressure_data method from above\n\n# Plot the process data\nfig, ax1 = plt.subplots(figsize=(9, 7))\nax1.margins(x=0)\nax2 = ax1.twinx()\nax1.plot(data.index, data.values)\nax1.set_ylabel(\"Pressure (barg)\")\n\n# Change point and steady state detection parameters\nmin_distance = 60\nvar_threshold = 5.0\nslope_threshold = -8.8\n\n# Detect the Change Points\ncp_ts = cpd_ed_pelt(data, min_distance)\n\n# Evalute the Steady State Conditions\nss_map = ssd_cpd(data, min_distance, var_threshold, slope_threshold)\n\n# Plot the Steady State regions\nln2 = ax2.fill_between(ss_map.index, ss_map.values, color=\"orange\", alpha=0.2)\n\n# Plot the Change Points\nax2.plot(cp_ts.index, cp_ts.values, color=\"k\", linestyle=\":\")\nax2.set_ylim([0, 1])\nax2.set_yticks([])\n\n# create legend below the plot\nplt.legend(\n    (plt.Line2D(data.index, data.values), plt.Line2D(cp_ts.index, cp_ts.values, color=\"k\", linestyle=\":\"), ln2),\n    (\"Sensor Readings\", \"Change Points\", \"Steady State Regions\"),\n    loc=\"upper center\",\n    bbox_to_anchor=(0.5, -0.05),\n    fancybox=True,\n    ncol=3,\n)\nplt.title(\"Steady State Detection based on ED-PELT Change Point Detection algorithm\")\nplt.show()"
      ]
    }
  ],
  "metadata": {
    "kernelspec": {
      "display_name": "Python 3",
      "language": "python",
      "name": "python3"
    },
    "language_info": {
      "codemirror_mode": {
        "name": "ipython",
        "version": 3
      },
      "file_extension": ".py",
      "mimetype": "text/x-python",
      "name": "python",
      "nbconvert_exporter": "python",
      "pygments_lexer": "ipython3",
      "version": "3.8.12"
    }
  },
  "nbformat": 4,
  "nbformat_minor": 0
}