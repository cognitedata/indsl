{
  "cells": [
    {
      "cell_type": "markdown",
      "metadata": {},
      "source": [
        "\n# Holt-Winters Predictor\n\nFor the Holt-Winters example we use forged daily data with a weekly seasonality. We predict two types of data, the first\ndataset displays an additive trend and an additive seasonality, and the second dataset displays an additive trend and a\nmultiplicative seasonality.\n"
      ]
    },
    {
      "cell_type": "code",
      "execution_count": null,
      "metadata": {
        "collapsed": false
      },
      "outputs": [],
      "source": [
        "import os\nimport warnings\n\nimport matplotlib.pyplot as plt\nimport pandas as pd\n\nfrom indsl.forecast.holt_winters_predictor import holt_winters_predictor as hwp\n\n\n# suppress \"No frequency information was given\" warning - Frequency information is derived from datetime index\nwarnings.filterwarnings(\"ignore\")\n\nbase_path = \"\" if __name__ == \"__main__\" else os.path.dirname(__file__)\ndata = pd.read_csv(os.path.join(base_path, \"../../datasets/data/seasonal_with_trend_data.csv\"), sep=\";\", index_col=0)\ndata.index = pd.to_datetime(data.index)\n\n# calculate the forecast for both data types\nadditive_res = hwp(data[\"additive\"], seasonal_periods=7, steps=90)\nmultiplicative_res = hwp(data[\"multiplicative\"], seasonal_periods=7, seasonality=\"mul\", steps=90)\n\n# plot result\nfig, ax = plt.subplots(2, 1, figsize=[9, 7])\nax[0].plot(data.index, data[\"additive\"], label=\"Train\")\nax[0].plot(additive_res.index, additive_res, label=\"Holt-Winters\")\nax[0].set_ylabel(\"Value\")\nax[0].set_title(\"Forecast for data with weekly seasonality and additive trend\")\n\nax[1].plot(data.index, data[\"multiplicative\"], label=\"Train\")\nax[1].plot(multiplicative_res.index, multiplicative_res, label=\"Holt-Winters\")\nax[1].set_title(\"Forecast for data with weekly seasonality, additive trend, and multiplicative seasonality\")\nax[1].set_ylabel(\"Value\")\n\n_ = ax[0].legend(loc=0)\n_ = ax[1].legend(loc=0)\n\nfig.tight_layout(pad=2.0)\n\nplt.show()"
      ]
    }
  ],
  "metadata": {
    "kernelspec": {
      "display_name": "Python 3",
      "language": "python",
      "name": "python3"
    },
    "language_info": {
      "codemirror_mode": {
        "name": "ipython",
        "version": 3
      },
      "file_extension": ".py",
      "mimetype": "text/x-python",
      "name": "python",
      "nbconvert_exporter": "python",
      "pygments_lexer": "ipython3",
      "version": "3.12.7"
    }
  },
  "nbformat": 4,
  "nbformat_minor": 0
}