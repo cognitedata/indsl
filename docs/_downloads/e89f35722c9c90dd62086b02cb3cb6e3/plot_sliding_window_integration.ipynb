{
  "cells": [
    {
      "cell_type": "markdown",
      "metadata": {},
      "source": [
        "\n# Sliding window integration\n\nIn this example a synthetic time series is generated with a certain skewness (to make it more interesting) and a use\nthe sliding window integration with  a integrand rate of 1 hour. In other words, carry out a sliding window\nintegration of the data over 1 hour periods.\n"
      ]
    },
    {
      "cell_type": "code",
      "execution_count": null,
      "metadata": {
        "collapsed": false
      },
      "outputs": [],
      "source": [
        "import matplotlib.pyplot as plt\nimport numpy as np\nimport pandas as pd\n\nfrom indsl.ts_utils.numerical_calculus import sliding_window_integration\n\n\nnp.random.seed(1337)\ndatapoints = 5000\nx = np.random.randn(datapoints)\ny = np.zeros(len(x))\ny[0] = x[0] + 100  # initial synthetic start\nfor i in range(1, len(x)):\n    y[i] = y[i - 1] + (x[i] + 0.0025)  # and skew it upwards\n\nseries = pd.Series(y, index=pd.date_range(start=\"2000\", periods=datapoints, freq=\"10s\"))\nresult = sliding_window_integration(series, pd.Timedelta(\"1h\"))\n\nplt.figure(1, figsize=[9, 7])\nplt.plot(result, label=\"Cumulative moving window result, with matching units to raw time series data\")\nplt.plot(series, alpha=0.6, label=\"Raw timeseries data\")\nplt.legend()\nplt.ylabel(\"[-]/h\")\nplt.title(\"Sliding window integration with matching integrand rate and window\")\n_ = plt.show()"
      ]
    }
  ],
  "metadata": {
    "kernelspec": {
      "display_name": "Python 3",
      "language": "python",
      "name": "python3"
    },
    "language_info": {
      "codemirror_mode": {
        "name": "ipython",
        "version": 3
      },
      "file_extension": ".py",
      "mimetype": "text/x-python",
      "name": "python",
      "nbconvert_exporter": "python",
      "pygments_lexer": "ipython3",
      "version": "3.12.7"
    }
  },
  "nbformat": 4,
  "nbformat_minor": 0
}