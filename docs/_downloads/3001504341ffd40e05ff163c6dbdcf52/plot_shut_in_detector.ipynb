{
  "cells": [
    {
      "cell_type": "markdown",
      "metadata": {},
      "source": [
        "\n# Detection of valve shut-in state\n\nWe use data from an emergency shut-down valve sensor on a compressor. The figure shows reading from the valve and the\ndetected open/close state for shut-in durations of at least 6 and 24 hours in duration.\n"
      ]
    },
    {
      "cell_type": "code",
      "execution_count": null,
      "metadata": {
        "collapsed": false
      },
      "outputs": [],
      "source": [
        "import os\n\nimport matplotlib.pyplot as plt\nimport pandas as pd\n\nfrom indsl.oil_and_gas.shut_in_detector import calculate_shutin_interval as shi\n\n\nbase_path = \"\" if __name__ == \"__main__\" else os.path.dirname(__file__)\ndata = pd.read_csv(os.path.join(base_path, \"../../datasets/data/shut_down_valve.csv\"), index_col=0)\ndata = data.squeeze()\ndata.index = pd.to_datetime(data.index)\n# TODO: Create load_shutin_valve_data method from above\n\n# Apply the shut-in detector with different settings and plot the results\nfig, ax = plt.subplots(3, 1, figsize=[9, 7])\nax[0].plot(data, \"o\", markersize=2, label=\"Raw data\")\n# Short shut-in (default of 6 hrs), shut-in state is when the value is greater than threshold\nax[1].plot(\n    shi(data, shutin_state_below_threshold=False),\n    color=\"red\",\n    linewidth=1,\n    label=\"Min shut-in duration = 6 hr\",\n)\n# Long shut-in (24 hrs), shut-in state is when the value is greater than threshold\nax[2].plot(\n    shi(data, min_shutin_len=24, shutin_state_below_threshold=False),\n    color=\"green\",\n    linewidth=1,\n    label=\"Min shut-in duration = 24 hr\",\n)\nax[0].set_ylabel(\"Open(1)/Close(0)\")\nax[0].set_title(\"Detection of State for Emergency Shut-in Valve\")\nax[1].set_ylabel(\"Valve state\")\nax[2].set_ylabel(\"Valve state\")\nplt.setp(ax, ylim=[-0.05, 1.4])\n_ = ax[0].legend(loc=2)\n_ = ax[1].legend(loc=2)\n_ = ax[2].legend(loc=2)\nplt.show()"
      ]
    }
  ],
  "metadata": {
    "kernelspec": {
      "display_name": "Python 3",
      "language": "python",
      "name": "python3"
    },
    "language_info": {
      "codemirror_mode": {
        "name": "ipython",
        "version": 3
      },
      "file_extension": ".py",
      "mimetype": "text/x-python",
      "name": "python",
      "nbconvert_exporter": "python",
      "pygments_lexer": "ipython3",
      "version": "3.12.7"
    }
  },
  "nbformat": 4,
  "nbformat_minor": 0
}