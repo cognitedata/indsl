{
  "cells": [
    {
      "cell_type": "code",
      "execution_count": null,
      "metadata": {
        "collapsed": false
      },
      "outputs": [],
      "source": [
        "%matplotlib inline"
      ]
    },
    {
      "cell_type": "markdown",
      "metadata": {},
      "source": [
        "\n# Outlier detection with DBSCAN and spline regression\n\nExample of outlier detection from time series data using DBSCAN and spline regression.\nWe use data from a compressor suction pressure sensor. The data is in barg units and resampled to 1 minute granularity.\nThe figure shows the data without outliers considering a time window of 40min.\n"
      ]
    },
    {
      "cell_type": "code",
      "execution_count": null,
      "metadata": {
        "collapsed": false
      },
      "outputs": [],
      "source": [
        "import os\n\nimport matplotlib.pyplot as plt\nimport pandas as pd\n\nfrom indsl.statistics import remove_outliers\n\n\n# TODO: USe a better data set to show how the outlier removal. Suggestion, use a synthetic data set.\n\n\nbase_path = \"\" if __name__ == \"__main__\" else os.path.dirname(__file__)\ndata = pd.read_csv(os.path.join(base_path, \"../../datasets/data/suct_pressure_barg.csv\"), index_col=0)\ndata = data.squeeze()\ndata.index = pd.to_datetime(data.index)\n\nplt.figure(1, figsize=[9, 7])\nplt.plot(data, \".\", markersize=2, color=\"red\", label=\"RAW\")\n\n# Remove the outliers with a time window of 40min and plot the results\nplt.plot(\n    remove_outliers(data, time_window=\"40min\"),\n    \".\",\n    markersize=2,\n    color=\"forestgreen\",\n    label=\"Data without outliers \\nwin=40min\",\n)\n\nplt.ylabel(\"Pressure (barg)\")\nplt.title(\"Remove outliers based on dbscan and csaps regression\")\n_ = plt.legend(loc=1)\nplt.show()"
      ]
    }
  ],
  "metadata": {
    "kernelspec": {
      "display_name": "Python 3",
      "language": "python",
      "name": "python3"
    },
    "language_info": {
      "codemirror_mode": {
        "name": "ipython",
        "version": 3
      },
      "file_extension": ".py",
      "mimetype": "text/x-python",
      "name": "python",
      "nbconvert_exporter": "python",
      "pygments_lexer": "ipython3",
      "version": "3.8.12"
    }
  },
  "nbformat": 4,
  "nbformat_minor": 0
}