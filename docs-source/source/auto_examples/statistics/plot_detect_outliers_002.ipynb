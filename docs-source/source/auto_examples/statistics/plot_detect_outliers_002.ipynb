{
  "cells": [
    {
      "cell_type": "code",
      "execution_count": null,
      "metadata": {
        "collapsed": false
      },
      "outputs": [],
      "source": [
        "%matplotlib inline"
      ]
    },
    {
      "cell_type": "markdown",
      "metadata": {},
      "source": [
        "\n# Outlier detection with DBSCAN and spline regression 002\n\nExample of outlier detection in a randomly generated time series data using DBSCAN and spline regression.\nThe resulting figure shows outliers generated with a time window of 60min marked on the original time series.\n"
      ]
    },
    {
      "cell_type": "code",
      "execution_count": null,
      "metadata": {
        "collapsed": false
      },
      "outputs": [],
      "source": [
        "from datetime import datetime, timedelta\n\nimport matplotlib.pyplot as plt\nimport numpy as np\nimport pandas as pd\n\nfrom indsl.statistics.outliers import detect_outliers\n\n\n# Generate time series with outliers\nrng1 = np.random.default_rng(0)\n\nmu = 0\nsigma = 1\noutliers_positive = rng1.uniform(low=3 * sigma, high=5 * sigma, size=2)\noutliers_negative = rng1.uniform(low=-5 * sigma, high=-3 * sigma, size=2)\nvalues = np.concatenate((outliers_positive, outliers_negative, rng1.normal(mu, sigma, 240)), axis=0)\n\nrng1.shuffle(values)\n\ndata = pd.Series(values, index=pd.date_range(\"2021-02-09 00:00:00\", \"2021-03-01 09:00:00\", periods=244))\n\n\n# Plot outliers against actual data\nfig, ax1 = plt.subplots(figsize=(15, 5))\n\n# Plot actual time series data\nax1.plot(data.index, data, label=\"Time series\", marker=\".\", color=\"blue\")\n\nts_values = np.arange(data.index[0], data.index[-1], timedelta(days=1)).astype(datetime)\n\nax1.set_xticks(ts_values)\nax1.set_xticklabels([ts.strftime(\"%d-%m-%Y \\n %H:%M:%S\") for ts in ts_values], fontsize=8)\n\n# Plot outliers indicator time series\nax2 = ax1.twinx()\nax2.plot(\n    data[np.where(detect_outliers(data) == 1)[0]].index,\n    data[np.where(detect_outliers(data) == 1)[0]].values,\n    \"o\",\n    color=\"red\",\n    label=\"Outliers\",\n)\n\n# Place legend\nax1.legend(loc=\"upper left\")\nax2.legend(loc=\"upper right\")\n\nplt.xlabel(\"Timestamp\")\nax1.set_ylabel(\"Time series values\")\nax2.set_ylabel(\"Outliers\")\n\nfig.suptitle(\"Outlier identification for a time series for a duration of 60 minutes\", fontsize=14)\nfig.tight_layout()\nplt.show()"
      ]
    }
  ],
  "metadata": {
    "kernelspec": {
      "display_name": "Python 3",
      "language": "python",
      "name": "python3"
    },
    "language_info": {
      "codemirror_mode": {
        "name": "ipython",
        "version": 3
      },
      "file_extension": ".py",
      "mimetype": "text/x-python",
      "name": "python",
      "nbconvert_exporter": "python",
      "pygments_lexer": "ipython3",
      "version": "3.8.13"
    }
  },
  "nbformat": 4,
  "nbformat_minor": 0
}