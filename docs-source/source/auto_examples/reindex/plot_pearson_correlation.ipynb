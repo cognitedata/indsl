{
  "cells": [
    {
      "cell_type": "code",
      "execution_count": null,
      "metadata": {
        "collapsed": false
      },
      "outputs": [],
      "source": [
        "%matplotlib inline"
      ]
    },
    {
      "cell_type": "markdown",
      "metadata": {},
      "source": [
        "\n# Re-indexing and compute Pearson correlation coefficient\n\nWhen working with multiple time series it is often important that time stamps are aligned.\nEven simple operations, like addition and subtraction of time series, require time stamp alignment. In this example, we demonstrate how re-indexing can be used to align time stamps.\n\n\nThe aim of this example is to compute the Pearson correlation of two compressor suction pressure sensors. The pressure sensors have non-uniform sampling frequency,\nand hence the time stamps do not align. Therefore, the data is first re-indexed and then a rolling median is used to remove outliers\n(smooth the data). Finally, the Pearson corelation coefficient is estimated.\nThe figure shows data from a pressure sensor randomly split into two time series to simulate two pressure sensors (Sensor 1 and Sensor 2).\n"
      ]
    },
    {
      "cell_type": "code",
      "execution_count": null,
      "metadata": {
        "collapsed": false
      },
      "outputs": [],
      "source": [
        "import os\n\nimport matplotlib.pyplot as plt\nimport numpy as np\nimport pandas as pd\n\nfrom indsl.resample.reindex import reindex\n\n\n# Load the pressure sensor data\nbase_path = \"\" if __name__ == \"__main__\" else os.path.dirname(__file__)\ndata = pd.read_csv(os.path.join(base_path, \"../../datasets/data/suct_pressure_barg.csv\"), index_col=0)\ndata = data.squeeze()\ndata.index = pd.to_datetime(data.index)\n\n# Reduce the initial dataset\nmsk = np.random.rand(len(data)) < 0.05\ndata = data[msk]\n\n# We simulate the two pressure sensors by split the input data randomly into two sets\nmsk = np.random.rand(len(data)) < 0.7\nraw_sensor1 = data[msk]\nraw_sensor2 = data[~msk]\n\n# Computing the correlation at now would result in only NaNs, because of non-matching indices.\n# Therefore, we need to re-index our time-series to a common index.\nre_sensor1, re_sensor2 = reindex(raw_sensor1, raw_sensor2, method=\"slinear\")\n\n# We can now check that both time-series have the same index\nassert (re_sensor1.index == re_sensor2.index).all()\n\n# Compute the rolling correlation\nwindow = 10\nrolling_correlation = re_sensor1.rolling(window).corr(re_sensor2)\n\n\n# Plot the results\nfsize = 10\nf, ax = plt.subplots(4, 1, figsize=(9, 7), sharex=True)\nax[0].plot(raw_sensor1, \".\", label=\"Sensor 1\")\nax[0].plot(raw_sensor2, \".\", label=\"Sensor 2\")\nax[0].set_ylabel(\"Pressure (barg)\", fontsize=fsize)\nax[0].legend(loc=1, fontsize=fsize)\nax[0].set_title(\"RAW Data\", fontsize=fsize)\n\nax[1].plot(re_sensor1, \".\", label=\"Sensor 1\")\nax[1].plot(re_sensor2, \".\", label=\"Sensor 2\")\nax[1].set_ylabel(\"Pressure (barg)\", fontsize=fsize)\nax[1].set_title(\"Re-indexed data\", fontsize=fsize)\nax[1].legend(loc=1, fontsize=fsize)\n\nre_sensor1.rolling(window=window).median().plot(ax=ax[2], label=\"Sensor 1\")\nre_sensor2.rolling(window=window).median().plot(ax=ax[2], label=\"Sensor 2\")\nax[2].set_ylabel(\"Pressure (barg)\", fontsize=fsize)\nax[2].set_title(\"Rolling window (median) data\", fontsize=fsize)\nax[2].legend(loc=1, fontsize=fsize)\n\nrolling_correlation.plot(ax=ax[3], color=\"g\", label=\"Pearson r\")\nax[3].set_xlabel(\"Rolling window correlation\", fontsize=fsize)\nax[3].set_ylabel(\"Correlation\", fontsize=fsize)\nax[3].legend(loc=1, fontsize=fsize)\nf.tight_layout()\nplt.show()"
      ]
    }
  ],
  "metadata": {
    "kernelspec": {
      "display_name": "Python 3",
      "language": "python",
      "name": "python3"
    },
    "language_info": {
      "codemirror_mode": {
        "name": "ipython",
        "version": 3
      },
      "file_extension": ".py",
      "mimetype": "text/x-python",
      "name": "python",
      "nbconvert_exporter": "python",
      "pygments_lexer": "ipython3",
      "version": "3.8.13"
    }
  },
  "nbformat": 4,
  "nbformat_minor": 0
}