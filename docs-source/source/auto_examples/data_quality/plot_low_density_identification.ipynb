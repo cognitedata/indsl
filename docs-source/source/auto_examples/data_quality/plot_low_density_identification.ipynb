{
  "cells": [
    {
      "cell_type": "code",
      "execution_count": null,
      "metadata": {
        "collapsed": false
      },
      "outputs": [],
      "source": [
        "%matplotlib inline"
      ]
    },
    {
      "cell_type": "markdown",
      "metadata": {},
      "source": [
        "\n# Identifying low density periods\n\nDetecting density of data points in a time series is important for finding out if the expected\nnumber of data points during a certain time window such as per hour or per day have been received.\n\nIn this example, we apply four low-density identification methods to a time series.\nmethods are:\n\n    1. Z-scores: Marks a period with low density if the number of data points is 3 standard deviations below the mean.\n    2. Modified Z-scores: A modified version of the Z-score method, which uses the median absolute deviation instead of the standard deviation.\n    3. Interquartile range (IQR): Uses IQR, a measure for the spread of the data, to identify low density periods.\n    4. Density threshold: Marks a period with low density if the number of data points are lower than the provided threshold.\n\nIn the plots below, we apply the four methods listed above to a time series ranging from 2022/01/01 to 2022/01/02\nwith sampling frequency of 5 minutes. In this time series, 35% of the data is removed by introducing five gaps at\nrandom locations. The plots show the different characteristics of the low density identification methods.\n\nLow density identification using the modified Z-Score method has been plotted at two different time windows,\none for 30 minutes and the other for 6 hours. The plot for 30-minute time window is a straight line because modified z-score\nmethod measures how much an outlier differs from a typical score based on the median.\n"
      ]
    },
    {
      "cell_type": "code",
      "execution_count": null,
      "metadata": {
        "collapsed": false
      },
      "outputs": [],
      "source": [
        "import matplotlib.pyplot as plt\nimport pandas as pd\n\nfrom indsl.data_quality.low_density_identification import (\n    low_density_identification_iqr,\n    low_density_identification_modified_z_scores,\n    low_density_identification_threshold,\n    low_density_identification_z_scores,\n)\nfrom indsl.signals.generator import insert_data_gaps, line\n\n\nstart = pd.Timestamp(\"2022/01/01\")\nend = pd.Timestamp(\"2022/01/02\")\n\n# Create a time series with four gaps of random location and size\nremove = 0.35\ndata = line(start_date=start, end_date=end, slope=0, intercept=0, sample_freq=pd.Timedelta(\"5m\"))\nts_mult_gaps = insert_data_gaps(data=data, fraction=remove, method=\"Multiple\", num_gaps=5)\n\n# Apply low density identification methods to time series\nts_low_density_z_scores = low_density_identification_z_scores(ts_mult_gaps, time_window=pd.Timedelta(\"30m\"))\nts_low_density_modified_z_scores_time_window_30m = low_density_identification_modified_z_scores(\n    ts_mult_gaps, time_window=pd.Timedelta(\"30m\")\n)\nts_low_density_modified_z_scores_time_window_6h = low_density_identification_modified_z_scores(\n    ts_mult_gaps, time_window=pd.Timedelta(\"6h\"), cutoff=1\n)\nts_low_density_iqr = low_density_identification_iqr(ts_mult_gaps, time_window=pd.Timedelta(\"30m\"))\nts_low_density_w_threshold = low_density_identification_threshold(ts_mult_gaps, time_window=pd.Timedelta(\"60m\"))\n\nfig, (ax1, ax2, ax3, ax4, ax5) = plt.subplots(5, 1, figsize=(17, 10))\nax1.plot(ts_mult_gaps, \"bo\", mec=\"b\", markerfacecolor=\"None\", markersize=4)\nax1.plot(ts_low_density_z_scores, \"r-\")\n\nax2.plot(ts_mult_gaps, \"bo\", mec=\"b\", markerfacecolor=\"None\", markersize=4)\nax2.plot(ts_low_density_modified_z_scores_time_window_30m, \"r-\")\n\nax3.plot(ts_mult_gaps, \"bo\", mec=\"b\", markerfacecolor=\"None\", markersize=4)\nax3.plot(ts_low_density_modified_z_scores_time_window_6h, \"r-\")\n\n\nax4.plot(ts_mult_gaps, \"bo\", mec=\"b\", markerfacecolor=\"None\", markersize=4)\nax4.plot(ts_low_density_iqr, \"r-\")\n\nax5.plot(ts_mult_gaps, \"bo\", mec=\"b\", markerfacecolor=\"None\", markersize=4)\nax5.plot(ts_low_density_w_threshold, \"r-\")\n\nax1.set_title(\"Z-scores - time window of 30 minutes\")\nax2.set_title(\"Modified Z-Scores - time window of 30 minutes\")\nax3.set_title(\"Modified Z-Scores - time window of 6 hours\")\nax4.set_title(\"IQR - time window of 30min\")\nax5.set_title(\"Density threshold - 30 minutes\")\n\nfig.suptitle(\"Low density identification applied to a time series with five gaps and 35% removal\", fontsize=16)\nfig.tight_layout()\n\nplt.show()"
      ]
    }
  ],
  "metadata": {
    "kernelspec": {
      "display_name": "Python 3",
      "language": "python",
      "name": "python3"
    },
    "language_info": {
      "codemirror_mode": {
        "name": "ipython",
        "version": 3
      },
      "file_extension": ".py",
      "mimetype": "text/x-python",
      "name": "python",
      "nbconvert_exporter": "python",
      "pygments_lexer": "ipython3",
      "version": "3.8.12"
    }
  },
  "nbformat": 4,
  "nbformat_minor": 0
}