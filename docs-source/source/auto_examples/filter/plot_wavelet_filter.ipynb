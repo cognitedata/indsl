{
  "cells": [
    {
      "cell_type": "code",
      "execution_count": null,
      "metadata": {
        "collapsed": false
      },
      "outputs": [],
      "source": [
        "%matplotlib inline"
      ]
    },
    {
      "cell_type": "markdown",
      "metadata": {},
      "source": [
        "\n# Noise removal and trending with the Wavelet filter\n\nExample of filtering to remove noise from time series data using the Wavelet filter.\nWe use data from volumetric flow rate (m3/h) sensor with non-uniform sampling frequency measuring measuring flow into\na compressor.\n\nIn the figure below it can be observed how applying different wavelet type filters can help remove\nsome of the noise (fluctuations) from the data and such provide a more smooth an easily interpretable signal.\nApplying different type wavelets (db[1-20], sym[2-20] or coif[1-5]) will provide different results, but generally\none will find that the lower numbered wavelets let more noise through while higher value wavelets results in a\nsmoother signal. The same applies to wavelet decomposition level. The lower the number the more similar\nthe result will be to the original data. Zero or negative numbers will fail and typically one will not want to choose\na value higher than 6.\n"
      ]
    },
    {
      "cell_type": "code",
      "execution_count": null,
      "metadata": {
        "collapsed": false
      },
      "outputs": [],
      "source": [
        "import os\n\nimport matplotlib.pyplot as plt\nimport pandas as pd\n\nfrom indsl.filter import wavelet_filter\n\n\nbase_path = \"\" if __name__ == \"__main__\" else os.path.dirname(__file__)\ndata = pd.read_csv(os.path.join(base_path, \"../../datasets/data/vol_flow_rate_m3h.csv\"), index_col=0)\ndata = data.squeeze()\ndata.index = pd.to_datetime(data.index)\n# TODO: Create load_flowrate_data method from above\n\n# Apply the filter with different settings and plot the results\nplt.figure(1, figsize=[9, 7])\n\n# RAW data\nplt.plot(data, color=\"lightblue\", label=\"RAW\")\n\n# Filter applied using 'db6' wavelet and a level of 2\nplt.plot(\n    wavelet_filter(data, level=2, wavelet=\"db8\"),\n    color=\"black\",\n    linewidth=1,\n    label=\"db8, level 2\",\n)\n\n# Filter applied using sym4 wavelet, and a level of 3\nplt.plot(\n    wavelet_filter(data, level=3, wavelet=\"sym4\"),\n    color=\"red\",\n    linewidth=1,\n    ls=\"--\",\n    label=\"sym4, level=3\",\n)\n\nplt.ylabel(\"Vol. Flow (m3/h)\")\nplt.title(\"Noise removal effect using different type wavelets and wavelet decomposition levels\")\n_ = plt.legend(loc=2)\nplt.show()"
      ]
    }
  ],
  "metadata": {
    "kernelspec": {
      "display_name": "Python 3",
      "language": "python",
      "name": "python3"
    },
    "language_info": {
      "codemirror_mode": {
        "name": "ipython",
        "version": 3
      },
      "file_extension": ".py",
      "mimetype": "text/x-python",
      "name": "python",
      "nbconvert_exporter": "python",
      "pygments_lexer": "ipython3",
      "version": "3.8.13"
    }
  },
  "nbformat": 4,
  "nbformat_minor": 0
}