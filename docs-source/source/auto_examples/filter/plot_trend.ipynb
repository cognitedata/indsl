{
  "cells": [
    {
      "cell_type": "code",
      "execution_count": null,
      "metadata": {
        "collapsed": false
      },
      "outputs": [],
      "source": [
        "%matplotlib inline"
      ]
    },
    {
      "cell_type": "markdown",
      "metadata": {},
      "source": [
        "\n# Trending with Empirical Mode Decomposition\n\nExample of trend extraction from non-linear, non-stationary signals using Empirical Mode Decomposition (EMD) and the\nHilbert-Huang Transform. We generate a synthetic signal composed of:\n\n    * Three oscillatory signals of different but significant amplitudes\n    * Two polynomial functions or trends\n    * Data drift\n\nTo make the case more realistic, from an industrial perspective, the timestamps are modified to make them nonuniform\nand 35% of the data points are randomly removed. Finally, Gaussian noise with a signal-to-noise ratio of 10 db is\nadded to it.\n\nThe figure below shows each of the components of the synthetic signal (except for the Gaussian noise), the resulting\nsynthetic signal and the trend obtained by means of Empirical Mode Decomposition and the Hilbert-Huang method\nimplemented. It can be seen that the trend reflects the general signal behaviour. For example, the peak of the signal\nnear Feb.28 13:00 is reflected in the estimated trend.\n"
      ]
    },
    {
      "cell_type": "code",
      "execution_count": null,
      "metadata": {
        "collapsed": false
      },
      "outputs": [],
      "source": [
        "import matplotlib.pyplot as plt\nimport numpy as np\nimport pandas as pd\n\nfrom matplotlib.dates import DateFormatter\n\nfrom indsl.filter.trend import trend_extraction_hilbert_transform\nfrom indsl.signals import insert_data_gaps, line, perturb_timestamp, sine_wave, white_noise\n\n\nstart_date = pd.Timestamp(\"2022-02-28\")\nend_date = pd.Timestamp(\"2022-03-02\")\n\n# Wave 1: Small amplitude, long wave period\nwave01 = sine_wave(\n    start_date=start_date,\n    end_date=end_date,\n    sample_freq=pd.Timedelta(\"1m\"),\n    wave_period=pd.Timedelta(\"6h\"),\n    wave_mean=0,\n    wave_amplitude=6.5,\n    wave_phase=0,\n)\nwave01 = np.exp(wave01)\n\n# Wave 2: Large amplitude, short wave period\nwave02 = sine_wave(\n    start_date=start_date,\n    end_date=end_date,\n    sample_freq=pd.Timedelta(\"1m\"),\n    wave_period=pd.Timedelta(\"1h\"),\n    wave_mean=0,\n    wave_amplitude=100,\n    wave_phase=0,\n)\n\n# Wave 3: Large amplitude, short wave period\nwave03 = sine_wave(\n    start_date=start_date,\n    end_date=end_date,\n    sample_freq=pd.Timedelta(\"1m\"),\n    wave_period=pd.Timedelta(\"3h\"),\n    wave_mean=5,\n    wave_amplitude=35,\n    wave_phase=np.pi,\n)\n\n# Trends\ntrend_01 = (\n    line(start_date=start_date, end_date=end_date, sample_freq=pd.Timedelta(\"1m\"), slope=0.00008, intercept=1) ** 3\n)\n\ntrend_02 = (\n    line(start_date=start_date, end_date=end_date, sample_freq=pd.Timedelta(\"1m\"), slope=-0.00005, intercept=5) ** 5\n)\n\ndrift = line(start_date=start_date, end_date=end_date, sample_freq=pd.Timedelta(\"1m\"), slope=0.00005, intercept=0)\n\nsignal = wave01 + wave02 + wave03 + trend_01 + trend_02 - drift\nsignal_w_noise = perturb_timestamp(white_noise(signal, snr_db=30))\nsignal_to_detrend = insert_data_gaps(signal_w_noise, method=\"Random\", fraction=0.35)\n\ntrend = trend_extraction_hilbert_transform(signal_to_detrend)\n\nfig, ax = plt.subplots(3, 1, figsize=[9, 7])\n\nax[0].plot(wave01, label=\"Wave 1\")\nax[0].plot(wave02, label=\"Wave 2\")\nax[0].plot(wave03, label=\"Wave 3\")\nax[0].set_title(\"Oscillatory components\")\nax[0].set_ylabel(\"Amplitude\")\nax[0].legend()\n\nax[1].plot(trend_01, label=\"Polynomial 1\")\nax[1].plot(trend_02, label=\"Polynomial 2\")\nax[1].set_title(\"Trends & Drift\")\nax[1].set_ylabel(\"Magnitude\")\nax[1].legend()\n\ncolor = \"tab:red\"\nax2 = ax[1].twinx()\nax2.plot(-drift, color=color)\nax2.set_ylabel(\"Drift\", color=color)\nax2.tick_params(axis=\"y\", labelcolor=color)\n\nax[2].plot(signal, label=\"Signal without noise\")\nax[2].set_title(\"Signal without noise\")\nax[2].set_ylabel(\"Magnitude\")\nax[2].set_xlabel(\"Date\")\nplt.show()\n\n# sphinx_gallery_thumbnail_number = 2\nfig2, axs = plt.subplots(figsize=[9, 7])\n\n# original signal\naxs.plot(signal_to_detrend, label=\"Signal\")\n\n# Trend extracted from the signal\naxs.plot(trend, label=\"Trend of the signal\")\n\naxs.set_title(\"Trend found using Hilbert-Huang Transform and empirical mode decomposition\")\n\n# Formatting x axis\n# myFmt = DateFormatter(\"%b %d, %H:%M\")\n# axs.xaxis.set_major_formatter(myFmt)\naxs.xaxis.set_major_formatter(DateFormatter(\"%b %d, %H:%M\"))\nplt.setp(axs.get_xticklabels(), rotation=45)\n#\naxs.legend(loc=\"lower right\")\nplt.tight_layout()\n\nplt.show()"
      ]
    }
  ],
  "metadata": {
    "kernelspec": {
      "display_name": "Python 3",
      "language": "python",
      "name": "python3"
    },
    "language_info": {
      "codemirror_mode": {
        "name": "ipython",
        "version": 3
      },
      "file_extension": ".py",
      "mimetype": "text/x-python",
      "name": "python",
      "nbconvert_exporter": "python",
      "pygments_lexer": "ipython3",
      "version": "3.8.12"
    }
  },
  "nbformat": 4,
  "nbformat_minor": 0
}